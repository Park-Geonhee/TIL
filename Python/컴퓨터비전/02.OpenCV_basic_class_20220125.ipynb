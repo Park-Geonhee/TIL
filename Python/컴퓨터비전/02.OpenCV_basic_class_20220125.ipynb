{
 "cells": [
  {
   "cell_type": "code",
   "execution_count": 1,
   "id": "c9ff6f46",
   "metadata": {},
   "outputs": [],
   "source": [
    "import cv2\n",
    "import numpy as np\n",
    "import sys"
   ]
  },
  {
   "cell_type": "code",
   "execution_count": 14,
   "id": "9da70a80",
   "metadata": {},
   "outputs": [
    {
     "name": "stdout",
     "output_type": "stream",
     "text": [
      "img type = <class 'numpy.ndarray'>\n",
      "img dimension = (480, 640, 3)\n",
      "img type = uint8\n",
      "img size = 640 x 480 \n",
      "\n",
      "img1 type = <class 'numpy.ndarray'>\n",
      "img1 dimension = (853, 1280, 3)\n",
      "img1 type = uint8\n"
     ]
    }
   ],
   "source": [
    "img = cv2.imread('./fig/puppy.bmp', cv2.IMREAD_COLOR)\n",
    "\n",
    "if img is None:\n",
    "    print('image read failed')\n",
    "    sys.exit()\n",
    "    \n",
    "print('img type =', type(img))\n",
    "print('img dimension =', img.shape)\n",
    "print('img type =', img.dtype)\n",
    "\n",
    "h, w = img.shape[:2]\n",
    "print('img size = {} x {}'.format(w,h))\n",
    "\n",
    "cv2.imshow('image',img)\n",
    "\n",
    "cv2.waitKey()\n",
    "cv2.destroyAllWindows()"
   ]
  },
  {
   "cell_type": "code",
   "execution_count": 14,
   "id": "5c488f22",
   "metadata": {},
   "outputs": [],
   "source": [
    "### 픽셀값 참고\n",
    "img1 = cv2.imread('./fig/puppy.bmp', 0)\n",
    "img2 = cv2.imread('./fig/puppy.bmp', 1)\n",
    "## flags 디폴트 : COLOR // 0 : GRAY\n",
    "\n",
    "y, x = img1.shape[:2]\n",
    "\n",
    "# ## 중심점에서의 색상 정보\n",
    "# img1_center = img1[y//2, x//2]\n",
    "# print('img1_center =', img1_center)\n",
    "\n",
    "# img2_center = img2[y//2, x//2]\n",
    "# print('img2_center =', img2_center)\n",
    "\n",
    "img1[10:110, 100:200] = 0\n",
    "# 흑백은 단일 값을 넣어야 됨; 튜플/리스트 형식 불가능\n",
    "# 색이 하나이기 때문\n",
    "\n",
    "img2[10:110, 100:200] = (128,0,0)\n",
    "\n",
    "cv2.imshow('img1', img1)\n",
    "cv2.imshow('img2', img2)\n",
    "\n",
    "cv2.waitKey()\n",
    "\n",
    "cv2.destroyAllWindows()"
   ]
  },
  {
   "cell_type": "code",
   "execution_count": 46,
   "id": "f96d5419",
   "metadata": {},
   "outputs": [],
   "source": [
    "img1 = np.zeros((240,320,3), dtype = np.uint8)\n",
    "img2 = np.ones((240,320), dtype = np.uint8)*255\n",
    "img3 = np.full((240,320,3), 128, dtype=np.uint8)\n",
    "img4 = np.random.randint(0,255,size = (240,320,3), dtype = np.uint8)\n",
    "\n",
    "\n",
    "\n",
    "img1[10:60, 10:60] = (0,0,255)\n",
    "# img2[10:60, 10:60] = 255\n",
    "# print(img2)\n",
    "\n",
    "cv2.imshow('img1', img1)\n",
    "cv2.imshow('img2', img2)\n",
    "cv2.imshow('img3', img3)\n",
    "\n",
    "cv2.imshow('img4', img4)\n",
    "\n",
    "cv2.waitKey()\n",
    "\n",
    "cv2.destroyAllWindows()"
   ]
  },
  {
   "cell_type": "code",
   "execution_count": 13,
   "id": "69c9e4db",
   "metadata": {},
   "outputs": [],
   "source": [
    "# 영상 복사\n",
    "\n",
    "img = cv2.imread('./fig/cat.bmp')\n",
    "\n",
    "if img is None:\n",
    "    print('image read failed')\n",
    "    sys.exit()\n",
    "    \n",
    "img1 = img\n",
    "img2 = img.copy()\n",
    "# img1 : img 의 레퍼런스를 복사함. 후에 img 변경하면 따라 바뀜\n",
    "# img2 : img 데이터 자체를 복사함. 후에 img 변경하면 바뀌지 않음\n",
    "\n",
    "img[100:200, 200:300] = (0, 0, 255)\n",
    "\n",
    "img1[200:250, 150:200] = (128,128,255)\n",
    "# img1 을 바꿔도 img가 따라 바뀜.\n",
    "    \n",
    "cv2.imshow('image',img)\n",
    "cv2.imshow('image1',img1)\n",
    "cv2.imshow('image2',img2)\n",
    "\n",
    "\n",
    "while True:\n",
    "    if cv2.waitKey(2000)==27:\n",
    "        break\n",
    "        \n",
    "cv2.destroyAllWindows()"
   ]
  },
  {
   "cell_type": "code",
   "execution_count": 12,
   "id": "c6b079b9",
   "metadata": {},
   "outputs": [],
   "source": [
    "##\n",
    "\n",
    "image = np.ones((400,400,3), dtype = np.uint8)*255\n",
    "img = image.copy()\n",
    "\n",
    "# circle(img, center, radius, color[, thickness[, lineType[, shift]]]) -> img\n",
    "cv2.circle(img, (100, 200), radius = 100, color = (0,0,255),\n",
    "          thickness = 3, lineType = cv2.LINE_AA)\n",
    "# thickness = -1 : 내부 가득 채움\n",
    "\n",
    "cv2.imshow('image', img)\n",
    "\n",
    "cv2.waitKey()\n",
    "cv2.destroyAllWindows()"
   ]
  },
  {
   "cell_type": "code",
   "execution_count": 30,
   "id": "87c90731",
   "metadata": {},
   "outputs": [],
   "source": [
    "img1 = cv2.imread('./fig/puppy.bmp')\n",
    "\n",
    "# 강아지 코 부분만 잘라내기\n",
    "\n",
    "img2 = img1[200:360,320:500]\n",
    "img3 = img1[200:360,320:500].copy()\n",
    "\n",
    "cv2.circle(img2,(90,90), 60, (0,0,255), 3, cv2.LINE_AA)\n",
    "\n",
    "\n",
    "cv2.imshow('img1', img1)\n",
    "cv2.imshow('img2', img2)\n",
    "cv2.imshow('img3', img3)\n",
    "\n",
    "cv2.waitKey()\n",
    "cv2.destroyAllWindows()"
   ]
  },
  {
   "cell_type": "code",
   "execution_count": 64,
   "id": "613182cd",
   "metadata": {},
   "outputs": [],
   "source": [
    "## copyTo\n",
    "\n",
    "src = cv2.imread('./fig/airplane.bmp', cv2.IMREAD_COLOR)\n",
    "mask = cv2.imread('./fig/mask_plane.bmp', cv2.IMREAD_GRAYSCALE)\n",
    "dst = cv2.imread('./fig/field.bmp', cv2.IMREAD_COLOR)\n",
    "\n",
    "if src is None or mask is None or dst is None:\n",
    "    print('image read failed')\n",
    "    sys.exti()\n",
    "    \n",
    "# copyTo(src, mask[, dst]) -> dst\n",
    "cv2.copyTo(src, mask, dst)\n",
    "# dst = cv2.copyTo(src, mask)\n",
    "    \n",
    "cv2.imshow('src', src)\n",
    "cv2.imshow('mask', mask)\n",
    "cv2.imshow('dst', dst)\n",
    "\n",
    "cv2.waitKey()\n",
    "cv2.destroyAllWindows()"
   ]
  },
  {
   "cell_type": "code",
   "execution_count": 68,
   "id": "c8735645",
   "metadata": {},
   "outputs": [
    {
     "name": "stdout",
     "output_type": "stream",
     "text": [
      "(400, 600, 3)\n",
      "(400, 600, 3)\n"
     ]
    }
   ],
   "source": [
    "print(src.shape)\n",
    "print(dst.shape)"
   ]
  },
  {
   "cell_type": "code",
   "execution_count": null,
   "id": "2ade15f3",
   "metadata": {},
   "outputs": [],
   "source": [
    "## mask 파일 만들기 \n",
    "## alpha channel"
   ]
  },
  {
   "cell_type": "code",
   "execution_count": 52,
   "id": "9a5349ea",
   "metadata": {},
   "outputs": [],
   "source": [
    "src = cv2.imread('./fig/airplane.bmp', cv2.IMREAD_COLOR)\n",
    "src_gray = cv2.cvtColor(src, cv2.COLOR_BGR2GRAY)\n",
    "\n",
    "# threshold(src, thresh, maxval, type[, dst]) -> retval, dst\n",
    "ret, mask = cv2.threshold(src_gray, 180, 255, cv2.THRESH_BINARY_INV)\n",
    "\n",
    "cv2.imshow('src',src)\n",
    "cv2.imshow('src_gray', src_gray)\n",
    "cv2.imshow('mask',mask)\n",
    "\n",
    "\n",
    "cv2.waitKey()\n",
    "cv2.destroyAllWindows()"
   ]
  },
  {
   "cell_type": "code",
   "execution_count": 90,
   "id": "c65830c1",
   "metadata": {},
   "outputs": [],
   "source": [
    "## 소를 초원위에 올려보자\n",
    "\n",
    "img1 = cv2.imread('./fig/cow.png')\n",
    "cow_gray = cv2.cvtColor(img1, cv2.COLOR_BGR2GRAY)\n",
    "img_green = cv2.imread('./fig/green.png')\n",
    "\n",
    "## 사이즈 받기\n",
    "\n",
    "## 1번\n",
    "# img2 = cv2.resize(img_green, (600,600))\n",
    "\n",
    "## 2번\n",
    "# y, x = img1.shape[:2]\n",
    "# img2 = cv2.resize(img_green, (x,y), cv2.THRESH_BINARY_INV)\n",
    "\n",
    "img2 = img_green[525:1125, 500:1100]\n",
    "\n",
    "ret, mask = cv2.threshold(cow_gray, 240, 255, cv2.THRESH_BINARY_INV)\n",
    "\n",
    "cv2.copyTo(img1, mask, img2)\n",
    "\n",
    "cv2.namedWindow('img2', cv2.WINDOW_NORMAL)\n",
    "\n",
    "# cv2.imshow('img1',img1)\n",
    "# cv2.imshow('cow_binary',mask)\n",
    "cv2.imshow('img2',img_green)\n",
    "\n",
    "cv2.waitKey()\n",
    "cv2.destroyAllWindows()"
   ]
  },
  {
   "cell_type": "code",
   "execution_count": 88,
   "id": "f840409e",
   "metadata": {},
   "outputs": [
    {
     "name": "stdout",
     "output_type": "stream",
     "text": [
      "(600, 600, 3)\n",
      "(1125, 1500, 3)\n",
      "(600, 600, 3)\n"
     ]
    }
   ],
   "source": [
    "print(img1.shape)\n",
    "print(img_green.shape)\n",
    "print(img2.shape)"
   ]
  },
  {
   "cell_type": "code",
   "execution_count": 114,
   "id": "e381fdc5",
   "metadata": {},
   "outputs": [],
   "source": [
    "img1_raw = cv2.imread('./fig/thomas.jpg')\n",
    "img1 = cv2.resize(img1_raw, (200,200))\n",
    "img1_gray = cv2.cvtColor(img1, cv2.COLOR_BGR2GRAY)\n",
    "img2_raw = cv2.imread('./fig/rail.jpg')\n",
    "\n",
    "# mask2 = cv2.resize(mask, (200,200))\n",
    "\n",
    "img2_new = img2_raw[50:250,300:500]\n",
    "\n",
    "ret, mask = cv2.threshold(img1_gray, 232, 255, cv2.THRESH_BINARY_INV)\n",
    "\n",
    "cv2.copyTo(img1, mask, img2_new)\n",
    "\n",
    "# cv2.imshow('img1',img1)\n",
    "# cv2.imshow('img1_gray', mask)\n",
    "cv2.imshow('img2',img2_raw)\n",
    "# cv2.imshow('img2_new',img2_new)\n",
    "\n",
    "cv2.waitKey()\n",
    "cv2.destroyAllWindows()"
   ]
  },
  {
   "cell_type": "code",
   "execution_count": 110,
   "id": "0802d983",
   "metadata": {},
   "outputs": [
    {
     "name": "stdout",
     "output_type": "stream",
     "text": [
      "(600, 600, 3)\n",
      "(387, 580, 3)\n"
     ]
    }
   ],
   "source": [
    "print(img1.shape)\n",
    "print(img2_raw.shape)"
   ]
  }
 ],
 "metadata": {
  "kernelspec": {
   "display_name": "Python 3 (ipykernel)",
   "language": "python",
   "name": "python3"
  },
  "language_info": {
   "codemirror_mode": {
    "name": "ipython",
    "version": 3
   },
   "file_extension": ".py",
   "mimetype": "text/x-python",
   "name": "python",
   "nbconvert_exporter": "python",
   "pygments_lexer": "ipython3",
   "version": "3.9.7"
  }
 },
 "nbformat": 4,
 "nbformat_minor": 5
}
