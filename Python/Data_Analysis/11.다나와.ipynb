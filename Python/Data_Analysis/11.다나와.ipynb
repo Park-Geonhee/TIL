{
 "cells": [
  {
   "cell_type": "code",
   "execution_count": 2,
   "id": "8070739d",
   "metadata": {},
   "outputs": [],
   "source": [
    "import pandas as pd\n",
    "import numpy as np\n",
    "from bs4 import BeautifulSoup"
   ]
  },
  {
   "cell_type": "code",
   "execution_count": 3,
   "id": "aef3e7f3",
   "metadata": {},
   "outputs": [],
   "source": [
    "from selenium import webdriver\n",
    "from selenium.webdriver.chrome.service import Service"
   ]
  },
  {
   "cell_type": "code",
   "execution_count": 5,
   "id": "57fc7f86",
   "metadata": {},
   "outputs": [],
   "source": [
    "ser = Service('../chrome_dirver/chromedriver.exe')\n",
    "\n",
    "driver = webdriver.Chrome(service = ser)"
   ]
  },
  {
   "cell_type": "code",
   "execution_count": 6,
   "id": "eb60b7fb",
   "metadata": {},
   "outputs": [],
   "source": [
    "url = 'http://search.danawa.com/dsearch.php?k1=%EB%AC%B4%EC%84%A0%EC%B2%AD%EC%86%8C%EA%B8%B0&module=goods&act=dispMain'\n",
    "\n",
    "driver.get(url)"
   ]
  },
  {
   "cell_type": "code",
   "execution_count": 8,
   "id": "baa8776d",
   "metadata": {},
   "outputs": [],
   "source": [
    "html = driver.page_source\n",
    "soup = BeautifulSoup(html, 'html.parser')"
   ]
  },
  {
   "cell_type": "markdown",
   "id": "05455937",
   "metadata": {},
   "source": [
    "---"
   ]
  },
  {
   "cell_type": "code",
   "execution_count": 35,
   "id": "18ea82f5",
   "metadata": {},
   "outputs": [
    {
     "data": {
      "text/plain": [
       "42"
      ]
     },
     "execution_count": 35,
     "metadata": {},
     "output_type": "execute_result"
    }
   ],
   "source": [
    "len(soup.select('div.prod_info > p > a'))"
   ]
  },
  {
   "cell_type": "code",
   "execution_count": 68,
   "id": "9c6c948c",
   "metadata": {},
   "outputs": [],
   "source": [
    "name = soup.select('div.prod_info > p > a')"
   ]
  },
  {
   "cell_type": "code",
   "execution_count": 40,
   "id": "274743bb",
   "metadata": {
    "scrolled": true
   },
   "outputs": [
    {
     "data": {
      "text/plain": [
       "'델로라 V11 파워 300W'"
      ]
     },
     "execution_count": 40,
     "metadata": {},
     "output_type": "execute_result"
    }
   ],
   "source": [
    "soup.select('div.prod_info > p > a')[0].text#.replace('\\n','').replace('\\t','')"
   ]
  },
  {
   "cell_type": "code",
   "execution_count": 69,
   "id": "efb75849",
   "metadata": {},
   "outputs": [],
   "source": [
    "detail = soup.select('div > div.prod_info > dl > dd > div')"
   ]
  },
  {
   "cell_type": "code",
   "execution_count": 41,
   "id": "5688c799",
   "metadata": {},
   "outputs": [
    {
     "data": {
      "text/plain": [
       "42"
      ]
     },
     "execution_count": 41,
     "metadata": {},
     "output_type": "execute_result"
    }
   ],
   "source": [
    "len(soup.select('div > div.prod_info > dl > dd > div'))"
   ]
  },
  {
   "cell_type": "code",
   "execution_count": 44,
   "id": "a08c7a3f",
   "metadata": {},
   "outputs": [
    {
     "data": {
      "text/plain": [
       "'핸디/스틱청소기  / 핸디+스틱형  / 무선형  / 흡입전용 / 소비전력 : 300W  / [성능] 흡입력 : 22000Pa  / 싸이클론  / BLDC모터  / [배터리] 충전시간 : 5시간  / 사용시간(개당) : 1시간10분  / 분리형 (1개)  / 리튬이온  / [필터] 헤파필터  / 4단계여과  / [기능] LED라이트  / [구성] 바닥  / 침구  / 솔형  / 틈새  / 연장툴  / 거치대  / [부가] 먼지통용량 : 0.6L  / 색상 : 레드, 블랙  / 무게 : 3.89kg  / 크기(가로x세로x깊이): 239x1255x105mm'"
      ]
     },
     "execution_count": 44,
     "metadata": {},
     "output_type": "execute_result"
    }
   ],
   "source": [
    "soup.select('div > div.prod_info > dl > dd > div')[0].text.replace('\\n','').replace('\\t','')"
   ]
  },
  {
   "cell_type": "code",
   "execution_count": 70,
   "id": "9f2f973a",
   "metadata": {},
   "outputs": [],
   "source": [
    "price = soup.select('div > div.prod_pricelist')"
   ]
  },
  {
   "cell_type": "code",
   "execution_count": 74,
   "id": "e78add20",
   "metadata": {},
   "outputs": [
    {
     "data": {
      "text/plain": [
       "'\\n\\n\\n\\n\\t\\t\\t\\t\\t\\t\\t\\t\\t\\t82몰\\t\\t\\t\\t\\t\\t\\t\\t\\t\\t\\t\\t\\t\\t\\t\\t\\t\\t\\t\\t\\t\\n상품비교\\n\\n\\n\\n\\n\\n\\n104,990원\\n\\n가격정보 더보기\\n\\n\\n\\n\\n\\n\\n'"
      ]
     },
     "execution_count": 74,
     "metadata": {},
     "output_type": "execute_result"
    }
   ],
   "source": [
    "price[0].text"
   ]
  },
  {
   "cell_type": "code",
   "execution_count": 109,
   "id": "91740f6b",
   "metadata": {},
   "outputs": [
    {
     "data": {
      "text/plain": [
       "42"
      ]
     },
     "execution_count": 109,
     "metadata": {},
     "output_type": "execute_result"
    }
   ],
   "source": [
    "len(soup.select('div > div.prod_pricelist'))"
   ]
  },
  {
   "cell_type": "code",
   "execution_count": 108,
   "id": "356d4994",
   "metadata": {},
   "outputs": [
    {
     "data": {
      "text/plain": [
       "41"
      ]
     },
     "execution_count": 108,
     "metadata": {},
     "output_type": "execute_result"
    }
   ],
   "source": [
    "len(soup.select('li.rank_one'))"
   ]
  },
  {
   "cell_type": "code",
   "execution_count": 126,
   "id": "4140b4f5",
   "metadata": {},
   "outputs": [
    {
     "data": {
      "text/plain": [
       "'\\n\\n526713원\\n\\n'"
      ]
     },
     "execution_count": 126,
     "metadata": {},
     "output_type": "execute_result"
    }
   ],
   "source": [
    "soup.select('li.rank_one')[3].text"
   ]
  },
  {
   "cell_type": "code",
   "execution_count": 101,
   "id": "4f663150",
   "metadata": {},
   "outputs": [],
   "source": [
    "price_0 = soup.select('div > div.prod_pricelist')[4].text.replace('\\n','').replace('\\t','')"
   ]
  },
  {
   "cell_type": "code",
   "execution_count": 102,
   "id": "d2eadd11",
   "metadata": {},
   "outputs": [
    {
     "data": {
      "text/plain": [
       "'526713원'"
      ]
     },
     "execution_count": 102,
     "metadata": {},
     "output_type": "execute_result"
    }
   ],
   "source": [
    "price_0#.split('원')[0].split('교')[1]"
   ]
  },
  {
   "cell_type": "code",
   "execution_count": 131,
   "id": "715978a4",
   "metadata": {
    "scrolled": true
   },
   "outputs": [
    {
     "data": {
      "text/plain": [
       "['델로라 V11 파워 300W',\n",
       " 'LG전자 오브제컬렉션 코드제로 ThinQ A9S AO9571',\n",
       " '삼성전자 비스포크 제트 VS20A956A3',\n",
       " '샤오미 CLEANFLY 차량용 무선 청소기 4세대 H2 (해외구매)',\n",
       " '3e7UkXamCi']"
      ]
     },
     "execution_count": 131,
     "metadata": {},
     "output_type": "execute_result"
    }
   ],
   "source": [
    "names = []\n",
    "details = []\n",
    "prices = []\n",
    "\n",
    "for nm in name:\n",
    "    prod_name = nm.text\n",
    "    names.append(prod_name)\n",
    "\n",
    "for dt in detail:\n",
    "    prod_detail = dt.text.replace('\\n','').replace('\\t','')\n",
    "    details.append(prod_detail)\n",
    "\n",
    "for pri in price:\n",
    "    prod_price = pri.text.replace('\\n','').replace('\\t','')\n",
    "    try:\n",
    "        prod_price = prod_price.split('원')[0].split('교')[1]\n",
    "    except:\n",
    "        prod_price = prod_price.split('원')[0]\n",
    "    prices.append(prod_price)    \n",
    "    \n",
    "names[:5]"
   ]
  },
  {
   "cell_type": "code",
   "execution_count": 130,
   "id": "39557e52",
   "metadata": {
    "scrolled": false
   },
   "outputs": [
    {
     "data": {
      "text/plain": [
       "['핸디/스틱청소기  / 핸디+스틱형  / 무선형  / 흡입전용 / 소비전력 : 300W  / [성능] 흡입력 : 22000Pa  / 싸이클론  / BLDC모터  / [배터리] 충전시간 : 5시간  / 사용시간(개당) : 1시간10분  / 분리형 (1개)  / 리튬이온  / [필터] 헤파필터  / 4단계여과  / [기능] LED라이트  / [구성] 바닥  / 침구  / 솔형  / 틈새  / 연장툴  / 거치대  / [부가] 먼지통용량 : 0.6L  / 색상 : 레드, 블랙  / 무게 : 3.89kg  / 크기(가로x세로x깊이): 239x1255x105mm',\n",
       " '핸디/스틱청소기 / 핸디+스틱형 / 무선형 / 흡입+걸레겸용 / 소비전력: 590W / [성능] 흡입력: 210W / 2중터보싸이클론 / 스마트인버터모터 / [배터리] 충전시간: 4시간 / 사용시간(개당): 1시간 / 분리형 (2개) / 리튬이온 / [필터] 분리형배기필터 / 헤파필터 / H13급 / 5단계여과 / [기능] 자동물공급 / 배터리잔량표시 / IoT기능 / 자동먼지비움 / [구성] 바닥 / 물걸레 / 침구 / 솔형 / 틈새 / 올인원타워 / [부가] 색상: 카밍베이지 / 무게: 2.6kg / 크기(가로x세로x깊이): 250x1120x260mm',\n",
       " '핸디/스틱청소기 / 핸디+스틱형 / 무선형 / 흡입+걸레겸용 / [성능] 흡입력: 210W / 제트싸이클론 / 디지털인버터모터 / [배터리] 충전시간: 3시간30분 / 사용시간(개당): 1시간 / 분리형 (1개) / 리튬이온 / [필터] 5단계여과 / [기능] 자동물공급 / 디스플레이표시창 / 배터리잔량표시 / 자동먼지비움 / [구성] 바닥 / 솔형 / 틈새 / 연장툴 / 청정스테이션 / [부가] 먼지통용량: 0.5L / 색상: 미스티화이트 / 무게: 2.5kg / 액세서리크래들  / 크기(가로x세로x깊이): 250x930x202mm',\n",
       " '차량용청소기 / 무선 / 흡입력: 16,800Pa / 최대출력: 120W / 헤파필터 / 스테인리스 필터 / 추가노즐: 틈새, 솔브러쉬, 연장호스 / 사용시간: 30분 / 소음: 73.8dB / 충전방식: USB C타입 / 배터리용량: 2,000mAh / 색상: 블랙, 화이트 / 크기: 369x72mm / 무게: 560g',\n",
       " '3e7UkXamCi526713']"
      ]
     },
     "execution_count": 130,
     "metadata": {},
     "output_type": "execute_result"
    }
   ],
   "source": [
    "details[:5]"
   ]
  },
  {
   "cell_type": "code",
   "execution_count": 129,
   "id": "48ba6210",
   "metadata": {
    "scrolled": true
   },
   "outputs": [
    {
     "data": {
      "text/plain": [
       "['104,990', '1,055,260', '578,540', '59,840', '526713']"
      ]
     },
     "execution_count": 129,
     "metadata": {},
     "output_type": "execute_result"
    }
   ],
   "source": [
    "prices[:5]"
   ]
  },
  {
   "cell_type": "code",
   "execution_count": 155,
   "id": "70b34231",
   "metadata": {},
   "outputs": [
    {
     "data": {
      "text/plain": [
       "[104990, 1055260, 578540, 59840, 526713]"
      ]
     },
     "execution_count": 155,
     "metadata": {},
     "output_type": "execute_result"
    }
   ],
   "source": [
    "prices_int = list(map(lambda x: int(x.replace(',','')),prices))\n",
    "prices_int[:5]"
   ]
  },
  {
   "cell_type": "code",
   "execution_count": 156,
   "id": "bda44d83",
   "metadata": {},
   "outputs": [
    {
     "data": {
      "text/html": [
       "<div>\n",
       "<style scoped>\n",
       "    .dataframe tbody tr th:only-of-type {\n",
       "        vertical-align: middle;\n",
       "    }\n",
       "\n",
       "    .dataframe tbody tr th {\n",
       "        vertical-align: top;\n",
       "    }\n",
       "\n",
       "    .dataframe thead th {\n",
       "        text-align: right;\n",
       "    }\n",
       "</style>\n",
       "<table border=\"1\" class=\"dataframe\">\n",
       "  <thead>\n",
       "    <tr style=\"text-align: right;\">\n",
       "      <th></th>\n",
       "      <th>제품명</th>\n",
       "      <th>설명</th>\n",
       "      <th>가격</th>\n",
       "    </tr>\n",
       "  </thead>\n",
       "  <tbody>\n",
       "    <tr>\n",
       "      <th>0</th>\n",
       "      <td>델로라 V11 파워 300W</td>\n",
       "      <td>핸디/스틱청소기  / 핸디+스틱형  / 무선형  / 흡입전용 / 소비전력 : 300...</td>\n",
       "      <td>104990</td>\n",
       "    </tr>\n",
       "    <tr>\n",
       "      <th>1</th>\n",
       "      <td>LG전자 오브제컬렉션 코드제로 ThinQ A9S AO9571</td>\n",
       "      <td>핸디/스틱청소기 / 핸디+스틱형 / 무선형 / 흡입+걸레겸용 / 소비전력: 590W...</td>\n",
       "      <td>1055260</td>\n",
       "    </tr>\n",
       "    <tr>\n",
       "      <th>2</th>\n",
       "      <td>삼성전자 비스포크 제트 VS20A956A3</td>\n",
       "      <td>핸디/스틱청소기 / 핸디+스틱형 / 무선형 / 흡입+걸레겸용 / [성능] 흡입력: ...</td>\n",
       "      <td>578540</td>\n",
       "    </tr>\n",
       "    <tr>\n",
       "      <th>3</th>\n",
       "      <td>샤오미 CLEANFLY 차량용 무선 청소기 4세대 H2 (해외구매)</td>\n",
       "      <td>차량용청소기 / 무선 / 흡입력: 16,800Pa / 최대출력: 120W / 헤파필...</td>\n",
       "      <td>59840</td>\n",
       "    </tr>\n",
       "    <tr>\n",
       "      <th>4</th>\n",
       "      <td>3e7UkXamCi</td>\n",
       "      <td>3e7UkXamCi526713</td>\n",
       "      <td>526713</td>\n",
       "    </tr>\n",
       "    <tr>\n",
       "      <th>5</th>\n",
       "      <td>LG전자 코드제로 ThinQ A9S AS9370IKT</td>\n",
       "      <td>핸디/스틱청소기 / 핸디+스틱형 / 무선형 / 흡입+걸레겸용 / 소비전력: 590W...</td>\n",
       "      <td>793730</td>\n",
       "    </tr>\n",
       "    <tr>\n",
       "      <th>6</th>\n",
       "      <td>베이스어스 차량용 청소기 A3 (해외구매)</td>\n",
       "      <td>차량용청소기 / 무선 / 흡입력: 15,000Pa / 최대출력: 135W / 헤파필...</td>\n",
       "      <td>49940</td>\n",
       "    </tr>\n",
       "    <tr>\n",
       "      <th>7</th>\n",
       "      <td>샤오미 TROUVER POWER 11</td>\n",
       "      <td>핸디/스틱청소기 / 핸디+스틱형 / 무선형 / 흡입전용 / 소비전력: 400W / ...</td>\n",
       "      <td>73950</td>\n",
       "    </tr>\n",
       "    <tr>\n",
       "      <th>8</th>\n",
       "      <td>삼성전자 비스포크 제트 VS20A957E3</td>\n",
       "      <td>핸디/스틱청소기 / 핸디+스틱형 / 무선형 / 흡입+걸레겸용 / [성능] 흡입력: ...</td>\n",
       "      <td>923790</td>\n",
       "    </tr>\n",
       "    <tr>\n",
       "      <th>9</th>\n",
       "      <td>샤오미 드리미 V10</td>\n",
       "      <td>핸디/스틱청소기 / 핸디+스틱형 / 무선형 / 흡입전용 / 소비전력: 450W / ...</td>\n",
       "      <td>129440</td>\n",
       "    </tr>\n",
       "    <tr>\n",
       "      <th>10</th>\n",
       "      <td>일렉트로룩스 WELL Q6 WQ61-1OGG</td>\n",
       "      <td>핸디/스틱청소기 / 핸디+스틱형 / 무선형 / 흡입전용 / [성능] 싸이클론 / [...</td>\n",
       "      <td>125870</td>\n",
       "    </tr>\n",
       "    <tr>\n",
       "      <th>11</th>\n",
       "      <td>LG전자 코드제로 ThinQ A9S A9370</td>\n",
       "      <td>핸디/스틱청소기 / 핸디+스틱형 / 무선형 / 흡입+걸레겸용 / 소비전력: 590W...</td>\n",
       "      <td>632510</td>\n",
       "    </tr>\n",
       "    <tr>\n",
       "      <th>12</th>\n",
       "      <td>LG전자 코드제로 A9 AS9100ST</td>\n",
       "      <td>핸디/스틱청소기 / 핸디+스틱형 / 무선형 / 흡입+걸레겸용 / 소비전력: 450W...</td>\n",
       "      <td>685470</td>\n",
       "    </tr>\n",
       "    <tr>\n",
       "      <th>13</th>\n",
       "      <td>삼성전자 비스포크 제트 VS20A957D2</td>\n",
       "      <td>핸디/스틱청소기 / 핸디+스틱형 / 무선형 / 흡입+걸레겸용 / [성능] 흡입력: ...</td>\n",
       "      <td>744610</td>\n",
       "    </tr>\n",
       "    <tr>\n",
       "      <th>14</th>\n",
       "      <td>LG전자 코드제로 A9 A9100N</td>\n",
       "      <td>핸디/스틱청소기 / 핸디+스틱형 / 무선형 / 흡입+걸레겸용 / 소비전력: 450W...</td>\n",
       "      <td>537460</td>\n",
       "    </tr>\n",
       "    <tr>\n",
       "      <th>15</th>\n",
       "      <td>샤오미 미지아 차량용 핸디 무선 청소기 (해외구매)</td>\n",
       "      <td>차량용청소기 / 무선 / 흡입력: 13,000Pa / 최대출력: 120W / 헤파필...</td>\n",
       "      <td>40690</td>\n",
       "    </tr>\n",
       "    <tr>\n",
       "      <th>16</th>\n",
       "      <td>삼성전자 비스포크 제트 VS20A956A3 + 물걸레</td>\n",
       "      <td>핸디/스틱청소기 / 핸디+스틱형 / 무선형 / 흡입+걸레겸용 / [성능] 흡입력: ...</td>\n",
       "      <td>706700</td>\n",
       "    </tr>\n",
       "    <tr>\n",
       "      <th>17</th>\n",
       "      <td>다이슨 V10 플러피 오리진</td>\n",
       "      <td>핸디/스틱청소기 / 핸디+스틱형 / 무선형 / 흡입전용 / [성능] 흡입력: 151...</td>\n",
       "      <td>523800</td>\n",
       "    </tr>\n",
       "    <tr>\n",
       "      <th>18</th>\n",
       "      <td>LG전자 코드제로 ThinQ A9S AS9470</td>\n",
       "      <td>핸디/스틱청소기 / 핸디+스틱형 / 무선형 / 흡입+걸레겸용 / 소비전력: 590W...</td>\n",
       "      <td>887360</td>\n",
       "    </tr>\n",
       "    <tr>\n",
       "      <th>19</th>\n",
       "      <td>델로라 V11 파워 300W</td>\n",
       "      <td>핸디/스틱청소기 / 핸디+스틱형 / 무선형 / 흡입전용 / 소비전력: 300W / ...</td>\n",
       "      <td>104990</td>\n",
       "    </tr>\n",
       "    <tr>\n",
       "      <th>20</th>\n",
       "      <td>삼성전자 제트 VS20T9210BF</td>\n",
       "      <td>핸디/스틱청소기 / 핸디+스틱형 / 무선형 / 흡입+걸레겸용 / 소비전력: 550W...</td>\n",
       "      <td>465950</td>\n",
       "    </tr>\n",
       "    <tr>\n",
       "      <th>21</th>\n",
       "      <td>조아스 차량용 에어건 청소기 JVC-2000</td>\n",
       "      <td>차량용청소기 / 무선 / 흡입력: 5,500Pa / 최대출력: 60W / 헤파필터 ...</td>\n",
       "      <td>38900</td>\n",
       "    </tr>\n",
       "    <tr>\n",
       "      <th>22</th>\n",
       "      <td>다이슨 디지털 슬림 플러피+</td>\n",
       "      <td>핸디/스틱청소기 / 핸디+스틱형 / 무선형 / 흡입전용 / [성능] 흡입력: 100...</td>\n",
       "      <td>601800</td>\n",
       "    </tr>\n",
       "    <tr>\n",
       "      <th>23</th>\n",
       "      <td>인트비즈 MORUN 차량용 무선 미니 청소기 V5</td>\n",
       "      <td>차량용청소기 / 무선 / 흡입력: 13,000Pa / 헤파필터 / 추가노즐: 틈새,...</td>\n",
       "      <td>89000</td>\n",
       "    </tr>\n",
       "    <tr>\n",
       "      <th>24</th>\n",
       "      <td>일렉트로룩스 에르고라피도 ZB3311</td>\n",
       "      <td>핸디/스틱청소기 / 핸디+스틱형 / 무선형 / 흡입전용 / [성능] 싸이클론 / [...</td>\n",
       "      <td>128510</td>\n",
       "    </tr>\n",
       "    <tr>\n",
       "      <th>25</th>\n",
       "      <td>DIBEA 차이슨 ALLNEW29000</td>\n",
       "      <td>핸디/스틱청소기 / 핸디+스틱형 / 무선형 / 흡입+걸레겸용 / 소비전력: 380W...</td>\n",
       "      <td>248000</td>\n",
       "    </tr>\n",
       "    <tr>\n",
       "      <th>26</th>\n",
       "      <td>삼성전자 비스포크 제트 VS20A956A3P</td>\n",
       "      <td>핸디/스틱청소기 / 핸디+스틱형 / 무선형 / 흡입+걸레겸용 / [성능] 흡입력: ...</td>\n",
       "      <td>597300</td>\n",
       "    </tr>\n",
       "    <tr>\n",
       "      <th>27</th>\n",
       "      <td>위드앤올 2in1 휴대용 무선 에어건 핸디 청소기 WNA-AG8</td>\n",
       "      <td>차량용청소기 / 무선 / 흡입력: 8,000Pa / 최대출력: 75W / 추가노즐:...</td>\n",
       "      <td>78830</td>\n",
       "    </tr>\n",
       "    <tr>\n",
       "      <th>28</th>\n",
       "      <td>오아 클린보틀 차량용 청소기 OA-CL002</td>\n",
       "      <td>차량용청소기 / 무선 / 흡입력: 6,500Pa / 헤파필터 / 추가노즐: 틈새, ...</td>\n",
       "      <td>57900</td>\n",
       "    </tr>\n",
       "    <tr>\n",
       "      <th>29</th>\n",
       "      <td>샤오미 드리미 V11</td>\n",
       "      <td>핸디/스틱청소기 / 핸디+스틱형 / 무선형 / 흡입+걸레겸용 / 소비전력: 450W...</td>\n",
       "      <td>194880</td>\n",
       "    </tr>\n",
       "    <tr>\n",
       "      <th>30</th>\n",
       "      <td>다이슨 V15 디텍트 앱솔루트 엑스트라</td>\n",
       "      <td>핸디/스틱청소기 / 핸디+스틱형 / 무선형 / 흡입전용 / [성능] 흡입력: 240...</td>\n",
       "      <td>1247000</td>\n",
       "    </tr>\n",
       "    <tr>\n",
       "      <th>31</th>\n",
       "      <td>샤오미 드리미 V12</td>\n",
       "      <td>핸디/스틱청소기 / 핸디+스틱형 / 무선형 / 흡입+걸레겸용 / 소비전력: 550W...</td>\n",
       "      <td>282060</td>\n",
       "    </tr>\n",
       "    <tr>\n",
       "      <th>32</th>\n",
       "      <td>허밍 차량용 무선 에어건 프로 HME-C15000G</td>\n",
       "      <td>차량용청소기 / 무선 / 최대출력: 60W / 추가노즐: 틈새, 솔브러쉬 / LED...</td>\n",
       "      <td>50640</td>\n",
       "    </tr>\n",
       "    <tr>\n",
       "      <th>33</th>\n",
       "      <td>샤오미 LYDSTO 핸디형 에어펌프 진공청소기</td>\n",
       "      <td>차량용청소기 / 무선 / 흡입력: ~7,000Pa / 충전방식: USB C타입 / ...</td>\n",
       "      <td>56600</td>\n",
       "    </tr>\n",
       "    <tr>\n",
       "      <th>34</th>\n",
       "      <td>LG전자 코드제로 A9 A9100S</td>\n",
       "      <td>핸디/스틱청소기 / 핸디+스틱형 / 무선형 / 흡입+걸레겸용 / 소비전력: 450W...</td>\n",
       "      <td>590040</td>\n",
       "    </tr>\n",
       "    <tr>\n",
       "      <th>35</th>\n",
       "      <td>로엘 듀스핀3 PRO</td>\n",
       "      <td>물걸레청소기 / 스틱형 / 물걸레전용 / 회전식 / 무선형 / 충전시간: 4시간 /...</td>\n",
       "      <td>177900</td>\n",
       "    </tr>\n",
       "    <tr>\n",
       "      <th>36</th>\n",
       "      <td>샤오미 CLEANFLY 차량용 무선 청소기 3세대 (해외구매)</td>\n",
       "      <td>차량용청소기 / 무선 / 흡입력: 16,800Pa / 최대출력: 120W / 헤파필...</td>\n",
       "      <td>58470</td>\n",
       "    </tr>\n",
       "    <tr>\n",
       "      <th>37</th>\n",
       "      <td>삼성전자 비스포크 제트 VS20A957D2P</td>\n",
       "      <td>핸디/스틱청소기 / 핸디+스틱형 / 무선형 / 흡입+걸레겸용 / [성능] 흡입력: ...</td>\n",
       "      <td>1194990</td>\n",
       "    </tr>\n",
       "    <tr>\n",
       "      <th>38</th>\n",
       "      <td>LG전자 코드제로 ThinQ A9S AS9471</td>\n",
       "      <td>핸디/스틱청소기 / 핸디+스틱형 / 무선형 / 흡입+걸레겸용 / 소비전력: 590W...</td>\n",
       "      <td>912540</td>\n",
       "    </tr>\n",
       "    <tr>\n",
       "      <th>39</th>\n",
       "      <td>삼성전자 비스포크 제트 VS20A957D3P</td>\n",
       "      <td>핸디/스틱청소기 / 핸디+스틱형 / 무선형 / 흡입+걸레겸용 / [성능] 흡입력: ...</td>\n",
       "      <td>783360</td>\n",
       "    </tr>\n",
       "    <tr>\n",
       "      <th>40</th>\n",
       "      <td>DIBEA M24 MAX</td>\n",
       "      <td>핸디/스틱청소기 / 핸디+스틱형 / 무선형 / 흡입+걸레겸용 / 소비전력: 400W...</td>\n",
       "      <td>98000</td>\n",
       "    </tr>\n",
       "    <tr>\n",
       "      <th>41</th>\n",
       "      <td>샤오미 SHUNZAO 차량용 무선청소기 2세대 Z1 (해외구매)</td>\n",
       "      <td>차량용청소기 / 무선 / 흡입력: 7,000Pa / 최대출력: 90W / 2중필터 ...</td>\n",
       "      <td>25130</td>\n",
       "    </tr>\n",
       "  </tbody>\n",
       "</table>\n",
       "</div>"
      ],
      "text/plain": [
       "                                      제품명  \\\n",
       "0                         델로라 V11 파워 300W   \n",
       "1       LG전자 오브제컬렉션 코드제로 ThinQ A9S AO9571   \n",
       "2                 삼성전자 비스포크 제트 VS20A956A3   \n",
       "3   샤오미 CLEANFLY 차량용 무선 청소기 4세대 H2 (해외구매)   \n",
       "4                              3e7UkXamCi   \n",
       "5           LG전자 코드제로 ThinQ A9S AS9370IKT   \n",
       "6                 베이스어스 차량용 청소기 A3 (해외구매)   \n",
       "7                    샤오미 TROUVER POWER 11   \n",
       "8                 삼성전자 비스포크 제트 VS20A957E3   \n",
       "9                             샤오미 드리미 V10   \n",
       "10               일렉트로룩스 WELL Q6 WQ61-1OGG   \n",
       "11              LG전자 코드제로 ThinQ A9S A9370   \n",
       "12                  LG전자 코드제로 A9 AS9100ST   \n",
       "13                삼성전자 비스포크 제트 VS20A957D2   \n",
       "14                    LG전자 코드제로 A9 A9100N   \n",
       "15           샤오미 미지아 차량용 핸디 무선 청소기 (해외구매)   \n",
       "16          삼성전자 비스포크 제트 VS20A956A3 + 물걸레   \n",
       "17                        다이슨 V10 플러피 오리진   \n",
       "18             LG전자 코드제로 ThinQ A9S AS9470   \n",
       "19                        델로라 V11 파워 300W   \n",
       "20                    삼성전자 제트 VS20T9210BF   \n",
       "21               조아스 차량용 에어건 청소기 JVC-2000   \n",
       "22                        다이슨 디지털 슬림 플러피+   \n",
       "23            인트비즈 MORUN 차량용 무선 미니 청소기 V5   \n",
       "24                   일렉트로룩스 에르고라피도 ZB3311   \n",
       "25                  DIBEA 차이슨 ALLNEW29000   \n",
       "26               삼성전자 비스포크 제트 VS20A956A3P   \n",
       "27    위드앤올 2in1 휴대용 무선 에어건 핸디 청소기 WNA-AG8   \n",
       "28               오아 클린보틀 차량용 청소기 OA-CL002   \n",
       "29                            샤오미 드리미 V11   \n",
       "30                  다이슨 V15 디텍트 앱솔루트 엑스트라   \n",
       "31                            샤오미 드리미 V12   \n",
       "32           허밍 차량용 무선 에어건 프로 HME-C15000G   \n",
       "33              샤오미 LYDSTO 핸디형 에어펌프 진공청소기   \n",
       "34                    LG전자 코드제로 A9 A9100S   \n",
       "35                            로엘 듀스핀3 PRO   \n",
       "36     샤오미 CLEANFLY 차량용 무선 청소기 3세대 (해외구매)   \n",
       "37               삼성전자 비스포크 제트 VS20A957D2P   \n",
       "38             LG전자 코드제로 ThinQ A9S AS9471   \n",
       "39               삼성전자 비스포크 제트 VS20A957D3P   \n",
       "40                          DIBEA M24 MAX   \n",
       "41    샤오미 SHUNZAO 차량용 무선청소기 2세대 Z1 (해외구매)   \n",
       "\n",
       "                                                   설명       가격  \n",
       "0   핸디/스틱청소기  / 핸디+스틱형  / 무선형  / 흡입전용 / 소비전력 : 300...   104990  \n",
       "1   핸디/스틱청소기 / 핸디+스틱형 / 무선형 / 흡입+걸레겸용 / 소비전력: 590W...  1055260  \n",
       "2   핸디/스틱청소기 / 핸디+스틱형 / 무선형 / 흡입+걸레겸용 / [성능] 흡입력: ...   578540  \n",
       "3   차량용청소기 / 무선 / 흡입력: 16,800Pa / 최대출력: 120W / 헤파필...    59840  \n",
       "4                                    3e7UkXamCi526713   526713  \n",
       "5   핸디/스틱청소기 / 핸디+스틱형 / 무선형 / 흡입+걸레겸용 / 소비전력: 590W...   793730  \n",
       "6   차량용청소기 / 무선 / 흡입력: 15,000Pa / 최대출력: 135W / 헤파필...    49940  \n",
       "7   핸디/스틱청소기 / 핸디+스틱형 / 무선형 / 흡입전용 / 소비전력: 400W / ...    73950  \n",
       "8   핸디/스틱청소기 / 핸디+스틱형 / 무선형 / 흡입+걸레겸용 / [성능] 흡입력: ...   923790  \n",
       "9   핸디/스틱청소기 / 핸디+스틱형 / 무선형 / 흡입전용 / 소비전력: 450W / ...   129440  \n",
       "10  핸디/스틱청소기 / 핸디+스틱형 / 무선형 / 흡입전용 / [성능] 싸이클론 / [...   125870  \n",
       "11  핸디/스틱청소기 / 핸디+스틱형 / 무선형 / 흡입+걸레겸용 / 소비전력: 590W...   632510  \n",
       "12  핸디/스틱청소기 / 핸디+스틱형 / 무선형 / 흡입+걸레겸용 / 소비전력: 450W...   685470  \n",
       "13  핸디/스틱청소기 / 핸디+스틱형 / 무선형 / 흡입+걸레겸용 / [성능] 흡입력: ...   744610  \n",
       "14  핸디/스틱청소기 / 핸디+스틱형 / 무선형 / 흡입+걸레겸용 / 소비전력: 450W...   537460  \n",
       "15  차량용청소기 / 무선 / 흡입력: 13,000Pa / 최대출력: 120W / 헤파필...    40690  \n",
       "16  핸디/스틱청소기 / 핸디+스틱형 / 무선형 / 흡입+걸레겸용 / [성능] 흡입력: ...   706700  \n",
       "17  핸디/스틱청소기 / 핸디+스틱형 / 무선형 / 흡입전용 / [성능] 흡입력: 151...   523800  \n",
       "18  핸디/스틱청소기 / 핸디+스틱형 / 무선형 / 흡입+걸레겸용 / 소비전력: 590W...   887360  \n",
       "19  핸디/스틱청소기 / 핸디+스틱형 / 무선형 / 흡입전용 / 소비전력: 300W / ...   104990  \n",
       "20  핸디/스틱청소기 / 핸디+스틱형 / 무선형 / 흡입+걸레겸용 / 소비전력: 550W...   465950  \n",
       "21  차량용청소기 / 무선 / 흡입력: 5,500Pa / 최대출력: 60W / 헤파필터 ...    38900  \n",
       "22  핸디/스틱청소기 / 핸디+스틱형 / 무선형 / 흡입전용 / [성능] 흡입력: 100...   601800  \n",
       "23  차량용청소기 / 무선 / 흡입력: 13,000Pa / 헤파필터 / 추가노즐: 틈새,...    89000  \n",
       "24  핸디/스틱청소기 / 핸디+스틱형 / 무선형 / 흡입전용 / [성능] 싸이클론 / [...   128510  \n",
       "25  핸디/스틱청소기 / 핸디+스틱형 / 무선형 / 흡입+걸레겸용 / 소비전력: 380W...   248000  \n",
       "26  핸디/스틱청소기 / 핸디+스틱형 / 무선형 / 흡입+걸레겸용 / [성능] 흡입력: ...   597300  \n",
       "27  차량용청소기 / 무선 / 흡입력: 8,000Pa / 최대출력: 75W / 추가노즐:...    78830  \n",
       "28  차량용청소기 / 무선 / 흡입력: 6,500Pa / 헤파필터 / 추가노즐: 틈새, ...    57900  \n",
       "29  핸디/스틱청소기 / 핸디+스틱형 / 무선형 / 흡입+걸레겸용 / 소비전력: 450W...   194880  \n",
       "30  핸디/스틱청소기 / 핸디+스틱형 / 무선형 / 흡입전용 / [성능] 흡입력: 240...  1247000  \n",
       "31  핸디/스틱청소기 / 핸디+스틱형 / 무선형 / 흡입+걸레겸용 / 소비전력: 550W...   282060  \n",
       "32  차량용청소기 / 무선 / 최대출력: 60W / 추가노즐: 틈새, 솔브러쉬 / LED...    50640  \n",
       "33  차량용청소기 / 무선 / 흡입력: ~7,000Pa / 충전방식: USB C타입 / ...    56600  \n",
       "34  핸디/스틱청소기 / 핸디+스틱형 / 무선형 / 흡입+걸레겸용 / 소비전력: 450W...   590040  \n",
       "35  물걸레청소기 / 스틱형 / 물걸레전용 / 회전식 / 무선형 / 충전시간: 4시간 /...   177900  \n",
       "36  차량용청소기 / 무선 / 흡입력: 16,800Pa / 최대출력: 120W / 헤파필...    58470  \n",
       "37  핸디/스틱청소기 / 핸디+스틱형 / 무선형 / 흡입+걸레겸용 / [성능] 흡입력: ...  1194990  \n",
       "38  핸디/스틱청소기 / 핸디+스틱형 / 무선형 / 흡입+걸레겸용 / 소비전력: 590W...   912540  \n",
       "39  핸디/스틱청소기 / 핸디+스틱형 / 무선형 / 흡입+걸레겸용 / [성능] 흡입력: ...   783360  \n",
       "40  핸디/스틱청소기 / 핸디+스틱형 / 무선형 / 흡입+걸레겸용 / 소비전력: 400W...    98000  \n",
       "41  차량용청소기 / 무선 / 흡입력: 7,000Pa / 최대출력: 90W / 2중필터 ...    25130  "
      ]
     },
     "execution_count": 156,
     "metadata": {},
     "output_type": "execute_result"
    }
   ],
   "source": [
    "danawaWireless_df = pd.DataFrame(\n",
    "    {'제품명':names,'설명':details,'가격':prices_int}\n",
    "                             )\n",
    "danawaWireless_df"
   ]
  },
  {
   "cell_type": "code",
   "execution_count": 157,
   "id": "540f72d3",
   "metadata": {},
   "outputs": [],
   "source": [
    "danawaWireless_df.to_excel('./files/1_danawa_crawling_result_study.xlsx',\n",
    "                          index = False)"
   ]
  },
  {
   "cell_type": "code",
   "execution_count": null,
   "id": "7cd90ac8",
   "metadata": {},
   "outputs": [],
   "source": []
  }
 ],
 "metadata": {
  "kernelspec": {
   "display_name": "Python 3 (ipykernel)",
   "language": "python",
   "name": "python3"
  },
  "language_info": {
   "codemirror_mode": {
    "name": "ipython",
    "version": 3
   },
   "file_extension": ".py",
   "mimetype": "text/x-python",
   "name": "python",
   "nbconvert_exporter": "python",
   "pygments_lexer": "ipython3",
   "version": "3.9.7"
  }
 },
 "nbformat": 4,
 "nbformat_minor": 5
}
