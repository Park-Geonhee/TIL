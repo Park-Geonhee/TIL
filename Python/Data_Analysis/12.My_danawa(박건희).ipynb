{
 "cells": [
  {
   "cell_type": "code",
   "execution_count": 1,
   "id": "65e139ca",
   "metadata": {},
   "outputs": [],
   "source": [
    "import pandas as pd\n",
    "import numpy as np\n",
    "from bs4 import BeautifulSoup\n",
    "\n",
    "from selenium import webdriver\n",
    "from selenium.webdriver.chrome.service import Service"
   ]
  },
  {
   "cell_type": "code",
   "execution_count": 2,
   "id": "a298b06f",
   "metadata": {},
   "outputs": [],
   "source": [
    "ser = Service('../chrome_dirver/chromedriver.exe')\n",
    "\n",
    "driver = webdriver.Chrome(service=ser)"
   ]
  },
  {
   "cell_type": "markdown",
   "id": "e102221e",
   "metadata": {},
   "source": [
    "#### 다나와에서 그래픽카드 웹크롤링"
   ]
  },
  {
   "cell_type": "code",
   "execution_count": 3,
   "id": "f6777762",
   "metadata": {},
   "outputs": [],
   "source": [
    "url = 'http://search.danawa.com/dsearch.php?k1=%EA%B7%B8%EB%9E%98%ED%94%BD%EC%B9%B4%EB%93%9C&module=goods&act=dispMain'\n",
    "\n",
    "driver.get(url)"
   ]
  },
  {
   "cell_type": "code",
   "execution_count": 4,
   "id": "e832ce6c",
   "metadata": {},
   "outputs": [],
   "source": [
    "html = driver.page_source\n",
    "soup = BeautifulSoup(html, 'html.parser')"
   ]
  },
  {
   "cell_type": "code",
   "execution_count": 8,
   "id": "b5d3ab71",
   "metadata": {},
   "outputs": [
    {
     "data": {
      "text/plain": [
       "43"
      ]
     },
     "execution_count": 8,
     "metadata": {},
     "output_type": "execute_result"
    }
   ],
   "source": [
    "len(soup.select('div.prod_main_info'))"
   ]
  },
  {
   "cell_type": "code",
   "execution_count": 32,
   "id": "933b02ad",
   "metadata": {},
   "outputs": [],
   "source": [
    "gpuList = soup.select('div.prod_main_info')"
   ]
  },
  {
   "cell_type": "code",
   "execution_count": 12,
   "id": "38e87a2a",
   "metadata": {},
   "outputs": [],
   "source": [
    "prod_zero = soup.select('div.prod_main_info')[0]"
   ]
  },
  {
   "cell_type": "code",
   "execution_count": 29,
   "id": "2becb14d",
   "metadata": {},
   "outputs": [
    {
     "data": {
      "text/plain": [
       "'\\n\\n\\n\\n\\n\\n이미지보기\\n동영상\\n\\n\\n\\n\\nMSI 지포스 RTX 3070 Ti 슈프림 X D6X 8GB 트라이프로져2S\\n\\n히트브랜드\\n\\n\\n\\n상세 스펙\\n\\n\\nRTX 3070 Ti\\n\\t \\t\\t\\t\\t\\t\\t\\t\\t / 8nm\\n\\t \\t\\t\\t\\t\\t\\t\\t\\t / 부스트클럭\\n\\t \\t\\t\\t\\t\\t\\t\\t\\t: 1860MHz\\n\\t \\t\\t\\t\\t\\t\\t\\t\\t / 스트림 프로세서\\n\\t \\t\\t\\t\\t\\t\\t\\t\\t: 6144개\\n\\t \\t\\t\\t\\t\\t\\t\\t\\t / PCIe4.0x16\\n\\t \\t\\t\\t\\t\\t\\t\\t\\t / GDDR6X(DDR6X)\\n\\t \\t\\t\\t\\t\\t\\t\\t\\t / 출력단자\\n\\t \\t\\t\\t\\t\\t\\t\\t\\t: HDMI2.1\\n\\t \\t\\t\\t\\t\\t\\t\\t\\t, DP1.4\\n\\t \\t\\t\\t\\t\\t\\t\\t\\t / 부가기능\\n\\t \\t\\t\\t\\t\\t\\t\\t\\t: 제로팬(0-dB기술)\\n\\t \\t\\t\\t\\t\\t\\t\\t\\t, 8K 해상도 지원\\n\\t \\t\\t\\t\\t\\t\\t\\t\\t, 4K 해상도 지원\\n\\t \\t\\t\\t\\t\\t\\t\\t\\t, HDR 지원\\n\\t \\t\\t\\t\\t\\t\\t\\t\\t, Dual BIOS\\n\\t \\t\\t\\t\\t\\t\\t\\t\\t, HDCP 2.3\\n\\t \\t\\t\\t\\t\\t\\t\\t\\t / 사용전력\\n\\t \\t\\t\\t\\t\\t\\t\\t\\t: 최대 310W\\n\\t \\t\\t\\t\\t\\t\\t\\t\\t / 정격파워 850W 이상\\n\\t \\t\\t\\t\\t\\t\\t\\t\\t / 전원 포트\\n\\t \\t\\t\\t\\t\\t\\t\\t\\t: 8핀 x2개\\n\\t \\t\\t\\t\\t\\t\\t\\t\\t / 3개 팬\\n\\t \\t\\t\\t\\t\\t\\t\\t\\t / 가로(길이)\\n\\t \\t\\t\\t\\t\\t\\t\\t\\t: 335mm\\n\\t \\t\\t\\t\\t\\t\\t\\t\\t / 백플레이트\\n\\t \\t\\t\\t\\t\\t\\t\\t\\t / LED 라이트\\n\\t \\t\\t\\t\\t\\t\\t\\t\\t / MYSTIC LIGHT / A/S 3년 / 그래픽 카드 지지대 포함\\t\\t\\t\\t\\t\\t\\t\\t\\n\\n\\n\\n\\n관련기사\\n빛으로 가득 찬 - G.SKILL TRIDENT Z RGB\\n\\n\\n사용기\\n\\ufeff7년 만에 그래픽카드 업그레이드... *>* MSI 지포스 RTX 3070 Ti 슈프림 X D6X 8GB 트라이프로져2S\\ufeff\\n\\n\\n\\n\\n\\n\\n등록월\\n2021.06.\\n\\n\\n브랜드로그\\n\\n\\n관심상품\\n관심상품\\nMSI 지포스 RTX 3070 Ti 슈프림 X D6X 8GB 트라이프로져2S\\n\\n\\n\\n상품분류\\n\\nPC주요부품 > 그래픽카드(VGA) \\n\\n\\n\\n\\n\\n\\n\\n\\n\\n\\n\\n11번가\\n1,588,040원\\n\\n\\n\\n\\n옥션\\n1,588,230원\\n\\n\\n\\n\\n가이드컴\\n1,588,350원\\n\\n\\n\\n\\n아이티엔조이\\n1,590,000원\\n\\n\\n\\n\\n쿠팡\\n1,592,700원\\n\\n\\n\\n더보기\\n\\n\\n\\n\\n\\t\\t\\t\\t\\t\\t\\t\\t\\t80몰\\t\\t\\t\\t\\t\\t\\t\\t\\t\\n상품비교\\n\\n\\n\\n\\n\\n\\n\\n'"
      ]
     },
     "execution_count": 29,
     "metadata": {},
     "output_type": "execute_result"
    }
   ],
   "source": [
    "prod_zero.text"
   ]
  },
  {
   "cell_type": "code",
   "execution_count": 23,
   "id": "9fc9c0e4",
   "metadata": {},
   "outputs": [
    {
     "data": {
      "text/plain": [
       "'MSI 지포스 RTX 3070 Ti 슈프림 X D6X 8GB 트라이프로져2S히트브랜드'"
      ]
     },
     "execution_count": 23,
     "metadata": {},
     "output_type": "execute_result"
    }
   ],
   "source": [
    "prod_zero.select('p.prod_name')[0].text.replace('\\n','')"
   ]
  },
  {
   "cell_type": "code",
   "execution_count": 25,
   "id": "3ef1b176",
   "metadata": {},
   "outputs": [
    {
     "data": {
      "text/plain": [
       "'RTX 3070 Ti  / 8nm  / 부스트클럭 : 1860MHz  / 스트림 프로세서 : 6144개  / PCIe4.0x16  / GDDR6X(DDR6X)  / 출력단자 : HDMI2.1 , DP1.4  / 부가기능 : 제로팬(0-dB기술) , 8K 해상도 지원 , 4K 해상도 지원 , HDR 지원 , Dual BIOS , HDCP 2.3  / 사용전력 : 최대 310W  / 정격파워 850W 이상  / 전원 포트 : 8핀 x2개  / 3개 팬  / 가로(길이) : 335mm  / 백플레이트  / LED 라이트  / MYSTIC LIGHT / A/S 3년 / 그래픽 카드 지지대 포함'"
      ]
     },
     "execution_count": 25,
     "metadata": {},
     "output_type": "execute_result"
    }
   ],
   "source": [
    "prod_zero.select('dl.prod_spec_set>dd')[0].text.replace('\\n','').replace('\\t','')"
   ]
  },
  {
   "cell_type": "code",
   "execution_count": 31,
   "id": "23f720ef",
   "metadata": {},
   "outputs": [
    {
     "data": {
      "text/plain": [
       "'1588040'"
      ]
     },
     "execution_count": 31,
     "metadata": {},
     "output_type": "execute_result"
    }
   ],
   "source": [
    "prod_zero.select('em.num_c')[0].text.replace(',','')"
   ]
  },
  {
   "cell_type": "code",
   "execution_count": 44,
   "id": "9313c683",
   "metadata": {},
   "outputs": [
    {
     "data": {
      "text/plain": [
       "[['MSI 지포스 RTX 3070 Ti 슈프림 X D6X 8GB 트라이프로져2S히트브랜드',\n",
       "  'RTX 3070 Ti  / 8nm  / 부스트클럭 : 1860MHz  / 스트림 프로세서 : 6144개  / PCIe4.0x16  / GDDR6X(DDR6X)  / 출력단자 : HDMI2.1 , DP1.4  / 부가기능 : 제로팬(0-dB기술) , 8K 해상도 지원 , 4K 해상도 지원 , HDR 지원 , Dual BIOS , HDCP 2.3  / 사용전력 : 최대 310W  / 정격파워 850W 이상  / 전원 포트 : 8핀 x2개  / 3개 팬  / 가로(길이) : 335mm  / 백플레이트  / LED 라이트  / MYSTIC LIGHT / A/S 3년 / 그래픽 카드 지지대 포함',\n",
       "  1588040],\n",
       " ['MSI 라데온 RX 6800 XT 게이밍 X 트리오 D6 16GB 트라이프로져2히트브랜드',\n",
       "  'RX 6800 XT  / 7nm  / 베이스클럭 : 1850MHz  / 부스트클럭 : 2285MHz  / 스트림 프로세서 : 4608개  / PCIe4.0x16  / GDDR6(DDR6)  / 출력단자 : HDMI2.1 , DP1.4  / 부가기능 : 제로팬(0-dB기술) , 8K 해상도 지원 , 4K 해상도 지원 , HDR 지원 , HDCP 지원  / 사용전력 : 최대 300W  / 정격파워 750W 이상  / 전원 포트 : 8핀 x2개  / 3개 팬  / 가로(길이) : 324mm  / 백플레이트  / LED 라이트  / MYSTIC LIGHT / A/S 3년 / 인피니티 캐시: 128MB / RDNA2 / 그래픽 카드 지지대 포함',\n",
       "  1689950],\n",
       " ['이엠텍 지포스 RTX 3060 STORM X Dual OC D6 12GB이벤트 ',\n",
       "  'RTX 3060 / 8nm / 부스트클럭: 1837MHz / 스트림 프로세서: 3584개 / PCIe4.0x16 / GDDR6(DDR6) / 출력단자: HDMI2.1, DP1.4 / 부가기능: 제로팬(0-dB기술), 8K 해상도 지원, 4K 해상도 지원, HDR 지원, HDCP 2.3 / 사용전력: 최대 180W / 정격파워 550W 이상 / 전원 포트: 8핀 x1개 / 전원부: 7페이즈 / 2개 팬 / 가로(길이): 245mm / 백플레이트 / LED 라이트 / Dr.MOS 모스펫 / ThunderMaster / A/S 3년 / 2021년 7월부로 LHR(채굴제한) 모델 유통',\n",
       "  909950]]"
      ]
     },
     "execution_count": 44,
     "metadata": {},
     "output_type": "execute_result"
    }
   ],
   "source": [
    "gpu_list = []\n",
    "for prod in gpuList:\n",
    "    name = prod.select('p.prod_name')[0].text.replace('\\n','')\n",
    "    spec = prod.select('dl.prod_spec_set>dd')[0].text.replace('\\n','').replace('\\t','')\n",
    "    try:\n",
    "        price = int(prod.select('em.num_c')[0].text.replace(',',''))\n",
    "    except:\n",
    "        price = None\n",
    "    \n",
    "    gpu_list.append([name,spec,price])\n",
    "    \n",
    "gpu_list[:3]"
   ]
  },
  {
   "cell_type": "code",
   "execution_count": 43,
   "id": "611e22ec",
   "metadata": {},
   "outputs": [
    {
     "data": {
      "text/html": [
       "<div>\n",
       "<style scoped>\n",
       "    .dataframe tbody tr th:only-of-type {\n",
       "        vertical-align: middle;\n",
       "    }\n",
       "\n",
       "    .dataframe tbody tr th {\n",
       "        vertical-align: top;\n",
       "    }\n",
       "\n",
       "    .dataframe thead th {\n",
       "        text-align: right;\n",
       "    }\n",
       "</style>\n",
       "<table border=\"1\" class=\"dataframe\">\n",
       "  <thead>\n",
       "    <tr style=\"text-align: right;\">\n",
       "      <th></th>\n",
       "      <th>제품명</th>\n",
       "      <th>상세정보</th>\n",
       "      <th>가격</th>\n",
       "    </tr>\n",
       "  </thead>\n",
       "  <tbody>\n",
       "    <tr>\n",
       "      <th>0</th>\n",
       "      <td>MSI 지포스 RTX 3070 Ti 슈프림 X D6X 8GB 트라이프로져2S히트브랜드</td>\n",
       "      <td>RTX 3070 Ti  / 8nm  / 부스트클럭 : 1860MHz  / 스트림 프...</td>\n",
       "      <td>1588040.0</td>\n",
       "    </tr>\n",
       "    <tr>\n",
       "      <th>1</th>\n",
       "      <td>MSI 라데온 RX 6800 XT 게이밍 X 트리오 D6 16GB 트라이프로져2히트브랜드</td>\n",
       "      <td>RX 6800 XT  / 7nm  / 베이스클럭 : 1850MHz  / 부스트클럭 ...</td>\n",
       "      <td>1689950.0</td>\n",
       "    </tr>\n",
       "    <tr>\n",
       "      <th>2</th>\n",
       "      <td>이엠텍 지포스 RTX 3060 STORM X Dual OC D6 12GB이벤트</td>\n",
       "      <td>RTX 3060 / 8nm / 부스트클럭: 1837MHz / 스트림 프로세서: 35...</td>\n",
       "      <td>909950.0</td>\n",
       "    </tr>\n",
       "    <tr>\n",
       "      <th>3</th>\n",
       "      <td>이엠텍 지포스 RTX 3070 Ti BLACK EDITION D6X 8GB이벤트</td>\n",
       "      <td>RTX 3070 Ti / 8nm / 베이스클럭: 1575MHz / 부스트클럭: 17...</td>\n",
       "      <td>1462410.0</td>\n",
       "    </tr>\n",
       "    <tr>\n",
       "      <th>4</th>\n",
       "      <td>이엠텍 지포스 GTX 1650 STORM X Dual MINI OC D6 4GB이벤트</td>\n",
       "      <td>GTX 1650 / 12nm / 베이스클럭: 1410MHz / 부스트클럭: 1725...</td>\n",
       "      <td>417380.0</td>\n",
       "    </tr>\n",
       "    <tr>\n",
       "      <th>5</th>\n",
       "      <td>MjXSDYRHj5</td>\n",
       "      <td>MjXSDYRHj5564797</td>\n",
       "      <td>NaN</td>\n",
       "    </tr>\n",
       "    <tr>\n",
       "      <th>6</th>\n",
       "      <td>MSI 지포스 RTX 3060 게이밍 X D6 12GB 트윈프로져8</td>\n",
       "      <td>RTX 3060 / 8nm / 부스트클럭: 1837MHz / 스트림 프로세서: 35...</td>\n",
       "      <td>957330.0</td>\n",
       "    </tr>\n",
       "    <tr>\n",
       "      <th>7</th>\n",
       "      <td>MSI 지포스 RTX 3070 Ti 슈프림 X D6X 8GB 트라이프로져2S</td>\n",
       "      <td>RTX 3070 Ti / 8nm / 부스트클럭: 1860MHz / 스트림 프로세서:...</td>\n",
       "      <td>1588040.0</td>\n",
       "    </tr>\n",
       "    <tr>\n",
       "      <th>8</th>\n",
       "      <td>MSI 지포스 RTX 3060 Ti 게이밍 X D6 8GB 트윈프로져8 LHR</td>\n",
       "      <td>RTX 3060 Ti / 8nm / 부스트클럭: 1770MHz / 스트림 프로세서:...</td>\n",
       "      <td>1184170.0</td>\n",
       "    </tr>\n",
       "    <tr>\n",
       "      <th>9</th>\n",
       "      <td>ZOTAC GAMING 지포스 RTX 3060 TWIN Edge OC D6 12GB...</td>\n",
       "      <td>RTX 3060 / 8nm / 부스트클럭: 1807MHz / 스트림 프로세서: 35...</td>\n",
       "      <td>916440.0</td>\n",
       "    </tr>\n",
       "    <tr>\n",
       "      <th>10</th>\n",
       "      <td>이엠텍 XENON 지포스 RTX 3080 TURBO JET OC D6X 10GB LHR</td>\n",
       "      <td>RTX 3080 / 8nm / 부스트클럭: 1860MHz / 스트림 프로세서: 87...</td>\n",
       "      <td>1942840.0</td>\n",
       "    </tr>\n",
       "    <tr>\n",
       "      <th>11</th>\n",
       "      <td>MSI 라데온 RX 6600 메크 2X D6 8GB</td>\n",
       "      <td>RX 6600 / 7nm / 부스트클럭: 2491MHz / 스트림 프로세서: 179...</td>\n",
       "      <td>663470.0</td>\n",
       "    </tr>\n",
       "    <tr>\n",
       "      <th>12</th>\n",
       "      <td>MSI 라데온 RX 6600 아머 D6 8GB</td>\n",
       "      <td>RX 6600 / 7nm / 부스트클럭: 2491MHz / 스트림 프로세서: 179...</td>\n",
       "      <td>666950.0</td>\n",
       "    </tr>\n",
       "    <tr>\n",
       "      <th>13</th>\n",
       "      <td>XFX 라데온 RX 6600 XT SWFT 210 CORE D6 8GB이벤트</td>\n",
       "      <td>RX 6600 XT / 7nm / 베이스클럭: 2092MHz / 부스트클럭: 258...</td>\n",
       "      <td>787530.0</td>\n",
       "    </tr>\n",
       "    <tr>\n",
       "      <th>14</th>\n",
       "      <td>MSI 지포스 RTX 3080 Ti 슈프림 X D6X 12GB 트라이프로져2S</td>\n",
       "      <td>RTX 3080 Ti / 8nm / 부스트클럭: 1845MHz / 스트림 프로세서:...</td>\n",
       "      <td>2491000.0</td>\n",
       "    </tr>\n",
       "    <tr>\n",
       "      <th>15</th>\n",
       "      <td>이엠텍 지포스 RTX 3060 Ti STORM X Dual OC D6 8GB</td>\n",
       "      <td>RTX 3060 Ti / 8nm / 부스트클럭: 1695MHz / 스트림 프로세서:...</td>\n",
       "      <td>1135000.0</td>\n",
       "    </tr>\n",
       "    <tr>\n",
       "      <th>16</th>\n",
       "      <td>갤럭시 GALAX 지포스 RTX 3060 V2 D6 12GB</td>\n",
       "      <td>RTX 3060 / 8nm / 부스트클럭: 1777MHz / 스트림 프로세서: 35...</td>\n",
       "      <td>938940.0</td>\n",
       "    </tr>\n",
       "    <tr>\n",
       "      <th>17</th>\n",
       "      <td>XFX 라데온 RX 6600 SWFT 210 CORE D6 8GB이벤트</td>\n",
       "      <td>RX 6600 / 7nm / 베이스클럭: 1626MHz / 부스트클럭: 2491MH...</td>\n",
       "      <td>704230.0</td>\n",
       "    </tr>\n",
       "    <tr>\n",
       "      <th>18</th>\n",
       "      <td>MSI 지포스 RTX 3070 게이밍 Z 트리오 D6 8GB 트라이프로져2 LHR</td>\n",
       "      <td>RTX 3070 / 8nm / 부스트클럭: 1845MHz / 스트림 프로세서: 58...</td>\n",
       "      <td>1416000.0</td>\n",
       "    </tr>\n",
       "    <tr>\n",
       "      <th>19</th>\n",
       "      <td>XFX 라데온 RX 6600 XT QICK 308 BLACK D6 8GB이벤트</td>\n",
       "      <td>RX 6600 XT / 7nm / 베이스클럭: 2188MHz / 부스트클럭: 260...</td>\n",
       "      <td>842200.0</td>\n",
       "    </tr>\n",
       "    <tr>\n",
       "      <th>20</th>\n",
       "      <td>이엠텍 지포스 RTX 3070 BLACK EDITION OC D6 8GB LHR</td>\n",
       "      <td>RTX 3070 / 8nm / 부스트클럭: 1770MHz / 스트림 프로세서: 58...</td>\n",
       "      <td>1399200.0</td>\n",
       "    </tr>\n",
       "    <tr>\n",
       "      <th>21</th>\n",
       "      <td>이엠텍 지포스 RTX 2060 STORM X Dual BASIC D6 12GB</td>\n",
       "      <td>RTX 2060 / 12nm / 베이스클럭: 1470MHz / 부스트클럭: 1650...</td>\n",
       "      <td>765920.0</td>\n",
       "    </tr>\n",
       "    <tr>\n",
       "      <th>22</th>\n",
       "      <td>SAPPHIRE 라데온 RX 6600 PULSE D6 8GB Dual-X</td>\n",
       "      <td>RX 6600 / 7nm / 부스트클럭: 2491MHz / 스트림 프로세서: 179...</td>\n",
       "      <td>718990.0</td>\n",
       "    </tr>\n",
       "    <tr>\n",
       "      <th>23</th>\n",
       "      <td>COLORFUL 지포스 GTX1050 Ti NE V2 D5 4GB</td>\n",
       "      <td>GTX1050 Ti / 14nm / 베이스클럭: 1291MHz / 부스트클럭: 13...</td>\n",
       "      <td>305690.0</td>\n",
       "    </tr>\n",
       "    <tr>\n",
       "      <th>24</th>\n",
       "      <td>GIGABYTE 지포스 GTX 1660 UDV OC D5 6GB 제이씨현</td>\n",
       "      <td>GTX 1660 / 12nm / 부스트클럭: 1830MHz / 스트림 프로세서: 1...</td>\n",
       "      <td>670930.0</td>\n",
       "    </tr>\n",
       "    <tr>\n",
       "      <th>25</th>\n",
       "      <td>AFOX 라데온 RX 550 D5 4GB DUAL 디앤디컴</td>\n",
       "      <td>RX 550 / 14nm / 부스트클럭: 1071MHz / 스트림 프로세서: 512...</td>\n",
       "      <td>166920.0</td>\n",
       "    </tr>\n",
       "    <tr>\n",
       "      <th>26</th>\n",
       "      <td>이엠텍 지포스 RTX 3080 Ti BLACK EDITION D6X 12GB</td>\n",
       "      <td>RTX 3080 Ti / 8nm / 베이스클럭: 1365MHz / 부스트클럭: 16...</td>\n",
       "      <td>2299770.0</td>\n",
       "    </tr>\n",
       "    <tr>\n",
       "      <th>27</th>\n",
       "      <td>MSI 지포스 RTX 3080 슈프림 X D6X 10GB 트라이프로져2S LHR</td>\n",
       "      <td>RTX 3080 / 8nm / 부스트클럭: 1905MHz / 스트림 프로세서: 87...</td>\n",
       "      <td>2099280.0</td>\n",
       "    </tr>\n",
       "    <tr>\n",
       "      <th>28</th>\n",
       "      <td>ASRock 라데온 RX 6600 CHALLENGER D D6 8GB 디앤디컴</td>\n",
       "      <td>RX 6600 / 7nm / 베이스클럭: 1626MHz / 부스트클럭: 2491MH...</td>\n",
       "      <td>642800.0</td>\n",
       "    </tr>\n",
       "    <tr>\n",
       "      <th>29</th>\n",
       "      <td>MSI 지포스 GTX 1650 벤투스 S OC V1 D5 4GB</td>\n",
       "      <td>GTX 1650 / 12nm / 부스트클럭: 1695MHz / 스트림 프로세서: 8...</td>\n",
       "      <td>399000.0</td>\n",
       "    </tr>\n",
       "    <tr>\n",
       "      <th>30</th>\n",
       "      <td>SAPPHIRE 라데온 RX 6500 XT PULSE OC D6 4GB Dual-X</td>\n",
       "      <td>RX 6500 XT / 6nm / 부스트클럭: 2825MHz / 스트림 프로세서: ...</td>\n",
       "      <td>NaN</td>\n",
       "    </tr>\n",
       "    <tr>\n",
       "      <th>31</th>\n",
       "      <td>GIGABYTE 지포스 RTX 3060 Gaming OC V2 D6 12GB 피씨디렉트</td>\n",
       "      <td>RTX 3060 / 8nm / 부스트클럭: 1837MHz / 스트림 프로세서: 35...</td>\n",
       "      <td>943000.0</td>\n",
       "    </tr>\n",
       "    <tr>\n",
       "      <th>32</th>\n",
       "      <td>MSI 지포스 GT1030 에어로 ITX OC D4 2GB</td>\n",
       "      <td>GT1030 / 베이스클럭: 1189MHz / 부스트클럭: 1430MHz / 스트림...</td>\n",
       "      <td>137560.0</td>\n",
       "    </tr>\n",
       "    <tr>\n",
       "      <th>33</th>\n",
       "      <td>이엠텍 지포스 GTX 1660 SUPER STORM X Dual BASIC OC D...</td>\n",
       "      <td>GTX 1660 SUPER / 12nm / 베이스클럭: 1530MHz / 부스트클럭...</td>\n",
       "      <td>710940.0</td>\n",
       "    </tr>\n",
       "    <tr>\n",
       "      <th>34</th>\n",
       "      <td>GIGABYTE 지포스 RTX 3070 Ti Gaming OC D6X 8GB 제이씨...</td>\n",
       "      <td>RTX 3070 Ti / 8nm / 부스트클럭: 1830MHz / 스트림 프로세서:...</td>\n",
       "      <td>1425560.0</td>\n",
       "    </tr>\n",
       "    <tr>\n",
       "      <th>35</th>\n",
       "      <td>MSI 지포스 GTX 1660 SUPER 벤투스 S OC D6 6GB</td>\n",
       "      <td>GTX 1660 SUPER / 12nm / 부스트클럭: 1815MHz / 스트림 프...</td>\n",
       "      <td>709800.0</td>\n",
       "    </tr>\n",
       "    <tr>\n",
       "      <th>36</th>\n",
       "      <td>갤럭시 GALAX 지포스 GTX 1650 BLACK EX D6 4GB</td>\n",
       "      <td>GTX 1650 / 12nm / 베이스클럭: 1410MHz / 부스트클럭: 1605...</td>\n",
       "      <td>440280.0</td>\n",
       "    </tr>\n",
       "    <tr>\n",
       "      <th>37</th>\n",
       "      <td>GIGABYTE 라데온 RX 6500 XT Gaming OC D6 4GB 제이씨현</td>\n",
       "      <td>RX 6500 XT / 6nm / 부스트클럭: 2825MHz / 스트림 프로세서: ...</td>\n",
       "      <td>398590.0</td>\n",
       "    </tr>\n",
       "    <tr>\n",
       "      <th>38</th>\n",
       "      <td>ASUS KO 지포스 RTX 3070 O8G GAMING OC D6 8GB이벤트</td>\n",
       "      <td>RTX 3070 / 8nm / 부스트클럭: 1845MHz / 스트림 프로세서: 58...</td>\n",
       "      <td>1332440.0</td>\n",
       "    </tr>\n",
       "    <tr>\n",
       "      <th>39</th>\n",
       "      <td>갤럭시 GALAX 지포스 RTX 3070 D6 8GB LHR</td>\n",
       "      <td>RTX 3070 / 8nm / 부스트클럭: 1725MHz / 스트림 프로세서: 58...</td>\n",
       "      <td>1316000.0</td>\n",
       "    </tr>\n",
       "    <tr>\n",
       "      <th>40</th>\n",
       "      <td>PowerColor 라데온 RX 6500 XT Fighter D6 4GB이벤트</td>\n",
       "      <td>RX 6500 XT / 6nm / 부스트클럭: 2820MHz / 스트림 프로세서: ...</td>\n",
       "      <td>NaN</td>\n",
       "    </tr>\n",
       "    <tr>\n",
       "      <th>41</th>\n",
       "      <td>MSI 지포스 GTX 1650 벤투스 S OC D6 4GB</td>\n",
       "      <td>GTX 1650 / 12nm / 부스트클럭: 1620MHz / 스트림 프로세서: 8...</td>\n",
       "      <td>440420.0</td>\n",
       "    </tr>\n",
       "    <tr>\n",
       "      <th>42</th>\n",
       "      <td>ZOTAC GAMING 지포스 RTX 3060 Ti TWIN Edge OC D6 8...</td>\n",
       "      <td>RTX 3060 Ti / 8nm / 부스트클럭: 1695MHz / 스트림 프로세서:...</td>\n",
       "      <td>1165850.0</td>\n",
       "    </tr>\n",
       "  </tbody>\n",
       "</table>\n",
       "</div>"
      ],
      "text/plain": [
       "                                                  제품명  \\\n",
       "0     MSI 지포스 RTX 3070 Ti 슈프림 X D6X 8GB 트라이프로져2S히트브랜드   \n",
       "1   MSI 라데온 RX 6800 XT 게이밍 X 트리오 D6 16GB 트라이프로져2히트브랜드   \n",
       "2        이엠텍 지포스 RTX 3060 STORM X Dual OC D6 12GB이벤트    \n",
       "3       이엠텍 지포스 RTX 3070 Ti BLACK EDITION D6X 8GB이벤트    \n",
       "4    이엠텍 지포스 GTX 1650 STORM X Dual MINI OC D6 4GB이벤트    \n",
       "5                                          MjXSDYRHj5   \n",
       "6               MSI 지포스 RTX 3060 게이밍 X D6 12GB 트윈프로져8   \n",
       "7          MSI 지포스 RTX 3070 Ti 슈프림 X D6X 8GB 트라이프로져2S   \n",
       "8         MSI 지포스 RTX 3060 Ti 게이밍 X D6 8GB 트윈프로져8 LHR   \n",
       "9   ZOTAC GAMING 지포스 RTX 3060 TWIN Edge OC D6 12GB...   \n",
       "10   이엠텍 XENON 지포스 RTX 3080 TURBO JET OC D6X 10GB LHR   \n",
       "11                       MSI 라데온 RX 6600 메크 2X D6 8GB   \n",
       "12                          MSI 라데온 RX 6600 아머 D6 8GB   \n",
       "13        XFX 라데온 RX 6600 XT SWFT 210 CORE D6 8GB이벤트    \n",
       "14        MSI 지포스 RTX 3080 Ti 슈프림 X D6X 12GB 트라이프로져2S   \n",
       "15         이엠텍 지포스 RTX 3060 Ti STORM X Dual OC D6 8GB   \n",
       "16                  갤럭시 GALAX 지포스 RTX 3060 V2 D6 12GB   \n",
       "17           XFX 라데온 RX 6600 SWFT 210 CORE D6 8GB이벤트    \n",
       "18      MSI 지포스 RTX 3070 게이밍 Z 트리오 D6 8GB 트라이프로져2 LHR   \n",
       "19       XFX 라데온 RX 6600 XT QICK 308 BLACK D6 8GB이벤트    \n",
       "20       이엠텍 지포스 RTX 3070 BLACK EDITION OC D6 8GB LHR   \n",
       "21        이엠텍 지포스 RTX 2060 STORM X Dual BASIC D6 12GB   \n",
       "22           SAPPHIRE 라데온 RX 6600 PULSE D6 8GB Dual-X   \n",
       "23               COLORFUL 지포스 GTX1050 Ti NE V2 D5 4GB   \n",
       "24           GIGABYTE 지포스 GTX 1660 UDV OC D5 6GB 제이씨현   \n",
       "25                   AFOX 라데온 RX 550 D5 4GB DUAL 디앤디컴   \n",
       "26         이엠텍 지포스 RTX 3080 Ti BLACK EDITION D6X 12GB   \n",
       "27       MSI 지포스 RTX 3080 슈프림 X D6X 10GB 트라이프로져2S LHR   \n",
       "28        ASRock 라데온 RX 6600 CHALLENGER D D6 8GB 디앤디컴   \n",
       "29                MSI 지포스 GTX 1650 벤투스 S OC V1 D5 4GB   \n",
       "30     SAPPHIRE 라데온 RX 6500 XT PULSE OC D6 4GB Dual-X   \n",
       "31   GIGABYTE 지포스 RTX 3060 Gaming OC V2 D6 12GB 피씨디렉트   \n",
       "32                   MSI 지포스 GT1030 에어로 ITX OC D4 2GB   \n",
       "33  이엠텍 지포스 GTX 1660 SUPER STORM X Dual BASIC OC D...   \n",
       "34  GIGABYTE 지포스 RTX 3070 Ti Gaming OC D6X 8GB 제이씨...   \n",
       "35             MSI 지포스 GTX 1660 SUPER 벤투스 S OC D6 6GB   \n",
       "36             갤럭시 GALAX 지포스 GTX 1650 BLACK EX D6 4GB   \n",
       "37      GIGABYTE 라데온 RX 6500 XT Gaming OC D6 4GB 제이씨현   \n",
       "38      ASUS KO 지포스 RTX 3070 O8G GAMING OC D6 8GB이벤트    \n",
       "39                  갤럭시 GALAX 지포스 RTX 3070 D6 8GB LHR   \n",
       "40       PowerColor 라데온 RX 6500 XT Fighter D6 4GB이벤트    \n",
       "41                   MSI 지포스 GTX 1650 벤투스 S OC D6 4GB   \n",
       "42  ZOTAC GAMING 지포스 RTX 3060 Ti TWIN Edge OC D6 8...   \n",
       "\n",
       "                                                 상세정보         가격  \n",
       "0   RTX 3070 Ti  / 8nm  / 부스트클럭 : 1860MHz  / 스트림 프...  1588040.0  \n",
       "1   RX 6800 XT  / 7nm  / 베이스클럭 : 1850MHz  / 부스트클럭 ...  1689950.0  \n",
       "2   RTX 3060 / 8nm / 부스트클럭: 1837MHz / 스트림 프로세서: 35...   909950.0  \n",
       "3   RTX 3070 Ti / 8nm / 베이스클럭: 1575MHz / 부스트클럭: 17...  1462410.0  \n",
       "4   GTX 1650 / 12nm / 베이스클럭: 1410MHz / 부스트클럭: 1725...   417380.0  \n",
       "5                                    MjXSDYRHj5564797        NaN  \n",
       "6   RTX 3060 / 8nm / 부스트클럭: 1837MHz / 스트림 프로세서: 35...   957330.0  \n",
       "7   RTX 3070 Ti / 8nm / 부스트클럭: 1860MHz / 스트림 프로세서:...  1588040.0  \n",
       "8   RTX 3060 Ti / 8nm / 부스트클럭: 1770MHz / 스트림 프로세서:...  1184170.0  \n",
       "9   RTX 3060 / 8nm / 부스트클럭: 1807MHz / 스트림 프로세서: 35...   916440.0  \n",
       "10  RTX 3080 / 8nm / 부스트클럭: 1860MHz / 스트림 프로세서: 87...  1942840.0  \n",
       "11  RX 6600 / 7nm / 부스트클럭: 2491MHz / 스트림 프로세서: 179...   663470.0  \n",
       "12  RX 6600 / 7nm / 부스트클럭: 2491MHz / 스트림 프로세서: 179...   666950.0  \n",
       "13  RX 6600 XT / 7nm / 베이스클럭: 2092MHz / 부스트클럭: 258...   787530.0  \n",
       "14  RTX 3080 Ti / 8nm / 부스트클럭: 1845MHz / 스트림 프로세서:...  2491000.0  \n",
       "15  RTX 3060 Ti / 8nm / 부스트클럭: 1695MHz / 스트림 프로세서:...  1135000.0  \n",
       "16  RTX 3060 / 8nm / 부스트클럭: 1777MHz / 스트림 프로세서: 35...   938940.0  \n",
       "17  RX 6600 / 7nm / 베이스클럭: 1626MHz / 부스트클럭: 2491MH...   704230.0  \n",
       "18  RTX 3070 / 8nm / 부스트클럭: 1845MHz / 스트림 프로세서: 58...  1416000.0  \n",
       "19  RX 6600 XT / 7nm / 베이스클럭: 2188MHz / 부스트클럭: 260...   842200.0  \n",
       "20  RTX 3070 / 8nm / 부스트클럭: 1770MHz / 스트림 프로세서: 58...  1399200.0  \n",
       "21  RTX 2060 / 12nm / 베이스클럭: 1470MHz / 부스트클럭: 1650...   765920.0  \n",
       "22  RX 6600 / 7nm / 부스트클럭: 2491MHz / 스트림 프로세서: 179...   718990.0  \n",
       "23  GTX1050 Ti / 14nm / 베이스클럭: 1291MHz / 부스트클럭: 13...   305690.0  \n",
       "24  GTX 1660 / 12nm / 부스트클럭: 1830MHz / 스트림 프로세서: 1...   670930.0  \n",
       "25  RX 550 / 14nm / 부스트클럭: 1071MHz / 스트림 프로세서: 512...   166920.0  \n",
       "26  RTX 3080 Ti / 8nm / 베이스클럭: 1365MHz / 부스트클럭: 16...  2299770.0  \n",
       "27  RTX 3080 / 8nm / 부스트클럭: 1905MHz / 스트림 프로세서: 87...  2099280.0  \n",
       "28  RX 6600 / 7nm / 베이스클럭: 1626MHz / 부스트클럭: 2491MH...   642800.0  \n",
       "29  GTX 1650 / 12nm / 부스트클럭: 1695MHz / 스트림 프로세서: 8...   399000.0  \n",
       "30  RX 6500 XT / 6nm / 부스트클럭: 2825MHz / 스트림 프로세서: ...        NaN  \n",
       "31  RTX 3060 / 8nm / 부스트클럭: 1837MHz / 스트림 프로세서: 35...   943000.0  \n",
       "32  GT1030 / 베이스클럭: 1189MHz / 부스트클럭: 1430MHz / 스트림...   137560.0  \n",
       "33  GTX 1660 SUPER / 12nm / 베이스클럭: 1530MHz / 부스트클럭...   710940.0  \n",
       "34  RTX 3070 Ti / 8nm / 부스트클럭: 1830MHz / 스트림 프로세서:...  1425560.0  \n",
       "35  GTX 1660 SUPER / 12nm / 부스트클럭: 1815MHz / 스트림 프...   709800.0  \n",
       "36  GTX 1650 / 12nm / 베이스클럭: 1410MHz / 부스트클럭: 1605...   440280.0  \n",
       "37  RX 6500 XT / 6nm / 부스트클럭: 2825MHz / 스트림 프로세서: ...   398590.0  \n",
       "38  RTX 3070 / 8nm / 부스트클럭: 1845MHz / 스트림 프로세서: 58...  1332440.0  \n",
       "39  RTX 3070 / 8nm / 부스트클럭: 1725MHz / 스트림 프로세서: 58...  1316000.0  \n",
       "40  RX 6500 XT / 6nm / 부스트클럭: 2820MHz / 스트림 프로세서: ...        NaN  \n",
       "41  GTX 1650 / 12nm / 부스트클럭: 1620MHz / 스트림 프로세서: 8...   440420.0  \n",
       "42  RTX 3060 Ti / 8nm / 부스트클럭: 1695MHz / 스트림 프로세서:...  1165850.0  "
      ]
     },
     "execution_count": 43,
     "metadata": {},
     "output_type": "execute_result"
    }
   ],
   "source": [
    "gpu_list_df = pd.DataFrame(gpu_list,\n",
    "                          columns = ['제품명','상세정보','가격'])\n",
    "gpu_list_df"
   ]
  },
  {
   "cell_type": "code",
   "execution_count": 196,
   "id": "6236fee1",
   "metadata": {},
   "outputs": [
    {
     "name": "stdout",
     "output_type": "stream",
     "text": [
      "<class 'pandas.core.frame.DataFrame'>\n",
      "RangeIndex: 43 entries, 0 to 42\n",
      "Data columns (total 3 columns):\n",
      " #   Column  Non-Null Count  Dtype  \n",
      "---  ------  --------------  -----  \n",
      " 0   제품명     43 non-null     object \n",
      " 1   상세정보    43 non-null     object \n",
      " 2   가격      40 non-null     float64\n",
      "dtypes: float64(1), object(2)\n",
      "memory usage: 1.1+ KB\n"
     ]
    }
   ],
   "source": [
    "gpu_list_df.info()"
   ]
  },
  {
   "cell_type": "markdown",
   "id": "25df72bd",
   "metadata": {},
   "source": [
    "##### 1~10페이지 까지 크롤링하기"
   ]
  },
  {
   "cell_type": "markdown",
   "id": "89b30a5f",
   "metadata": {},
   "source": [
    "- 첫 페이지에서 크롤링한 과정을 함수로 만들기"
   ]
  },
  {
   "cell_type": "code",
   "execution_count": 48,
   "id": "2d3ac911",
   "metadata": {},
   "outputs": [
    {
     "data": {
      "text/plain": [
       "'http://search.danawa.com/dsearch.php?query=그래픽카드&originalQuery=그래픽카드&volumeType=allvs&page=1\\n&limit=40&sort=saveDESC&list=list&boost=true&addDelivery=N&recommendedSort=Y\\n&defaultUICategoryCode=112753&defaultPhysicsCategoryCode=861%7C876%7C972%7C0&defaultVmTab=40663\\n&defaultVaTab=468778&tab=main'"
      ]
     },
     "execution_count": 48,
     "metadata": {},
     "output_type": "execute_result"
    }
   ],
   "source": [
    "keyword = '그래픽카드'\n",
    "page = '1'\n",
    "url = '''http://search.danawa.com/dsearch.php?query={0}&originalQuery={0}&volumeType=allvs&page={1}\n",
    "&limit=40&sort=saveDESC&list=list&boost=true&addDelivery=N&recommendedSort=Y\n",
    "&defaultUICategoryCode=112753&defaultPhysicsCategoryCode=861%7C876%7C972%7C0&defaultVmTab=40663\n",
    "&defaultVaTab=468778&tab=main'''.format(keyword,page)\n",
    "url"
   ]
  },
  {
   "cell_type": "code",
   "execution_count": 53,
   "id": "2d3015c4",
   "metadata": {},
   "outputs": [],
   "source": [
    "def get_url(keyword,page):\n",
    "    url = '''http://search.danawa.com/dsearch.php?query={0}&originalQuery={0}&volumeType=allvs&page={1}&limit=40&sort=saveDESC&list=list&boost=true&addDelivery=N&recommendedSort=Y&defaultUICategoryCode=112753&defaultPhysicsCategoryCode=861%7C876%7C972%7C0&defaultVmTab=40663&defaultVaTab=468778&tab=main'''.format(keyword,page)\n",
    "    return url"
   ]
  },
  {
   "cell_type": "code",
   "execution_count": 54,
   "id": "55242487",
   "metadata": {},
   "outputs": [
    {
     "data": {
      "text/plain": [
       "'http://search.danawa.com/dsearch.php?query=그래픽카드&originalQuery=그래픽카드&volumeType=allvs&page=1&limit=40&sort=saveDESC&list=list&boost=true&addDelivery=N&recommendedSort=Y&defaultUICategoryCode=112753&defaultPhysicsCategoryCode=861%7C876%7C972%7C0&defaultVmTab=40663&defaultVaTab=468778&tab=main'"
      ]
     },
     "execution_count": 54,
     "metadata": {},
     "output_type": "execute_result"
    }
   ],
   "source": [
    "get_url('그래픽카드','1')"
   ]
  },
  {
   "cell_type": "code",
   "execution_count": 57,
   "id": "f6a6ec8e",
   "metadata": {},
   "outputs": [],
   "source": [
    "def get_page_data(gpuList):\n",
    "   \n",
    "    gpu_list = []\n",
    "    \n",
    "    for prod in gpuList:\n",
    "        name = prod.select('p.prod_name')[0].text.replace('\\n','')\n",
    "        spec = prod.select('dl.prod_spec_set>dd')[0].text.replace('\\n','').replace('\\t','')\n",
    "        try:\n",
    "            price = int(prod.select('em.num_c')[0].text.replace(',',''))\n",
    "        except:\n",
    "            price = None\n",
    "\n",
    "        gpu_list.append([name,spec,price])\n",
    "    return gpu_list"
   ]
  },
  {
   "cell_type": "code",
   "execution_count": 56,
   "id": "465e8930",
   "metadata": {},
   "outputs": [],
   "source": [
    "import time\n",
    "from tqdm import tqdm_notebook\n",
    "from tqdm import notebook"
   ]
  },
  {
   "cell_type": "code",
   "execution_count": 58,
   "id": "b12aabcb",
   "metadata": {},
   "outputs": [
    {
     "data": {
      "application/vnd.jupyter.widget-view+json": {
       "model_id": "0c39ceda0a3f482b834b62ef482c6302",
       "version_major": 2,
       "version_minor": 0
      },
      "text/plain": [
       "  0%|          | 0/10 [00:00<?, ?it/s]"
      ]
     },
     "metadata": {},
     "output_type": "display_data"
    }
   ],
   "source": [
    "keyword = '그래픽카드'\n",
    "total_page = 10\n",
    "prod_data_total = []\n",
    "\n",
    "for page in notebook.tqdm(range(1,total_page+1)):\n",
    "    driver.get(get_url(keyword,page))\n",
    "    time.sleep(3)\n",
    "    \n",
    "    html = driver.page_source\n",
    "    soup = BeautifulSoup(html, 'html.parser')\n",
    "    \n",
    "    prod_items = soup.select('div.prod_main_info')\n",
    "    prod_item_list = get_page_data(prod_items)\n",
    "    \n",
    "    prod_data_total += prod_item_list"
   ]
  },
  {
   "cell_type": "code",
   "execution_count": 61,
   "id": "0e58758a",
   "metadata": {},
   "outputs": [
    {
     "data": {
      "text/plain": [
       "[['MSI 라데온 RX 6800 XT 게이밍 X 트리오 D6 16GB 트라이프로져2히트브랜드',\n",
       "  'RX 6800 XT  / 7nm  / 베이스클럭 : 1850MHz  / 부스트클럭 : 2285MHz  / 스트림 프로세서 : 4608개  / PCIe4.0x16  / GDDR6(DDR6)  / 출력단자 : HDMI2.1 , DP1.4  / 부가기능 : 제로팬(0-dB기술) , 8K 해상도 지원 , 4K 해상도 지원 , HDR 지원 , HDCP 지원  / 사용전력 : 최대 300W  / 정격파워 750W 이상  / 전원 포트 : 8핀 x2개  / 3개 팬  / 가로(길이) : 324mm  / 백플레이트  / LED 라이트  / MYSTIC LIGHT / A/S 3년 / 인피니티 캐시: 128MB / RDNA2 / 그래픽 카드 지지대 포함',\n",
       "  1689950],\n",
       " ['MSI 지포스 RTX 3070 Ti 슈프림 X D6X 8GB 트라이프로져2S히트브랜드',\n",
       "  'RTX 3070 Ti  / 8nm  / 부스트클럭 : 1860MHz  / 스트림 프로세서 : 6144개  / PCIe4.0x16  / GDDR6X(DDR6X)  / 출력단자 : HDMI2.1 , DP1.4  / 부가기능 : 제로팬(0-dB기술) , 8K 해상도 지원 , 4K 해상도 지원 , HDR 지원 , Dual BIOS , HDCP 2.3  / 사용전력 : 최대 310W  / 정격파워 850W 이상  / 전원 포트 : 8핀 x2개  / 3개 팬  / 가로(길이) : 335mm  / 백플레이트  / LED 라이트  / MYSTIC LIGHT / A/S 3년 / 그래픽 카드 지지대 포함',\n",
       "  1588180],\n",
       " ['이엠텍 지포스 RTX 3060 STORM X Dual OC D6 12GB이벤트 ',\n",
       "  'RTX 3060 / 8nm / 부스트클럭: 1837MHz / 스트림 프로세서: 3584개 / PCIe4.0x16 / GDDR6(DDR6) / 출력단자: HDMI2.1, DP1.4 / 부가기능: 제로팬(0-dB기술), 8K 해상도 지원, 4K 해상도 지원, HDR 지원, HDCP 2.3 / 사용전력: 최대 180W / 정격파워 550W 이상 / 전원 포트: 8핀 x1개 / 전원부: 7페이즈 / 2개 팬 / 가로(길이): 245mm / 백플레이트 / LED 라이트 / Dr.MOS 모스펫 / ThunderMaster / A/S 3년 / 2021년 7월부로 LHR(채굴제한) 모델 유통',\n",
       "  909950],\n",
       " ['이엠텍 지포스 RTX 3070 Ti BLACK EDITION D6X 8GB이벤트 ',\n",
       "  'RTX 3070 Ti / 8nm / 베이스클럭: 1575MHz / 부스트클럭: 1770MHz / 스트림 프로세서: 6144개 / PCIe4.0x16 / GDDR6X(DDR6X) / 출력단자: HDMI2.1, DP1.4 / 부가기능: 제로팬(0-dB기술), 8K 해상도 지원, 4K 해상도 지원, HDR 지원, HDCP 2.3 / 사용전력: 최대 290W / 정격파워 700W 이상 / 전원 포트: 8핀 x2개 / 전원부: 12페이즈 / 3개 팬 / 가로(길이): 294mm / 백플레이트 / LED 라이트 / Dr.MOS 모스펫 / ThunderMaster / A/S 3년',\n",
       "  1463670],\n",
       " ['이엠텍 지포스 GTX 1650 STORM X Dual MINI OC D6 4GB이벤트 ',\n",
       "  'GTX 1650 / 12nm / 베이스클럭: 1410MHz / 부스트클럭: 1725MHz / 스트림 프로세서: 896개 / PCIe3.0x16 / GDDR6(DDR6) / 출력단자: HDMI2.0, DP1.4 / 부가기능: 4K 해상도 지원, HDR 지원, HDCP 지원 / 사용전력: 최대 75W / 정격파워 300W 이상 / 전원 포트: 6핀 x1개 / 전원부: 2+1페이즈 / 2개 팬 / 가로(길이): 173mm / A/S 3년',\n",
       "  417380]]"
      ]
     },
     "execution_count": 61,
     "metadata": {},
     "output_type": "execute_result"
    }
   ],
   "source": [
    "prod_data_total[:5]"
   ]
  },
  {
   "cell_type": "code",
   "execution_count": 62,
   "id": "1865f06e",
   "metadata": {
    "scrolled": true
   },
   "outputs": [
    {
     "data": {
      "text/html": [
       "<div>\n",
       "<style scoped>\n",
       "    .dataframe tbody tr th:only-of-type {\n",
       "        vertical-align: middle;\n",
       "    }\n",
       "\n",
       "    .dataframe tbody tr th {\n",
       "        vertical-align: top;\n",
       "    }\n",
       "\n",
       "    .dataframe thead th {\n",
       "        text-align: right;\n",
       "    }\n",
       "</style>\n",
       "<table border=\"1\" class=\"dataframe\">\n",
       "  <thead>\n",
       "    <tr style=\"text-align: right;\">\n",
       "      <th></th>\n",
       "      <th>제품명</th>\n",
       "      <th>상세설명</th>\n",
       "      <th>가격</th>\n",
       "    </tr>\n",
       "  </thead>\n",
       "  <tbody>\n",
       "    <tr>\n",
       "      <th>0</th>\n",
       "      <td>MSI 라데온 RX 6800 XT 게이밍 X 트리오 D6 16GB 트라이프로져2히트브랜드</td>\n",
       "      <td>RX 6800 XT  / 7nm  / 베이스클럭 : 1850MHz  / 부스트클럭 ...</td>\n",
       "      <td>1689950.0</td>\n",
       "    </tr>\n",
       "    <tr>\n",
       "      <th>1</th>\n",
       "      <td>MSI 지포스 RTX 3070 Ti 슈프림 X D6X 8GB 트라이프로져2S히트브랜드</td>\n",
       "      <td>RTX 3070 Ti  / 8nm  / 부스트클럭 : 1860MHz  / 스트림 프...</td>\n",
       "      <td>1588180.0</td>\n",
       "    </tr>\n",
       "    <tr>\n",
       "      <th>2</th>\n",
       "      <td>이엠텍 지포스 RTX 3060 STORM X Dual OC D6 12GB이벤트</td>\n",
       "      <td>RTX 3060 / 8nm / 부스트클럭: 1837MHz / 스트림 프로세서: 35...</td>\n",
       "      <td>909950.0</td>\n",
       "    </tr>\n",
       "    <tr>\n",
       "      <th>3</th>\n",
       "      <td>이엠텍 지포스 RTX 3070 Ti BLACK EDITION D6X 8GB이벤트</td>\n",
       "      <td>RTX 3070 Ti / 8nm / 베이스클럭: 1575MHz / 부스트클럭: 17...</td>\n",
       "      <td>1463670.0</td>\n",
       "    </tr>\n",
       "    <tr>\n",
       "      <th>4</th>\n",
       "      <td>이엠텍 지포스 GTX 1650 STORM X Dual MINI OC D6 4GB이벤트</td>\n",
       "      <td>GTX 1650 / 12nm / 베이스클럭: 1410MHz / 부스트클럭: 1725...</td>\n",
       "      <td>417380.0</td>\n",
       "    </tr>\n",
       "    <tr>\n",
       "      <th>...</th>\n",
       "      <td>...</td>\n",
       "      <td>...</td>\n",
       "      <td>...</td>\n",
       "    </tr>\n",
       "    <tr>\n",
       "      <th>407</th>\n",
       "      <td>EVGA 지포스 RTX 2060 XC GAMING D6 12GB</td>\n",
       "      <td>RTX 2060 / 12nm / 부스트클럭: 1680MHz / 스트림 프로세서: 2...</td>\n",
       "      <td>834700.0</td>\n",
       "    </tr>\n",
       "    <tr>\n",
       "      <th>408</th>\n",
       "      <td>GIGABYTE 지포스 RTX 3080 Ti Gaming OC D6X 12GB 피씨디렉트</td>\n",
       "      <td>RTX 3080 Ti / 8nm / 부스트클럭: 1710MHz / 스트림 프로세서:...</td>\n",
       "      <td>2438940.0</td>\n",
       "    </tr>\n",
       "    <tr>\n",
       "      <th>409</th>\n",
       "      <td>GIGABYTE AORUS 지포스 RTX 3080 Ti Master D6X 12GB...</td>\n",
       "      <td>RTX 3080 Ti / 8nm / 부스트클럭: 1770MHz / 스트림 프로세서:...</td>\n",
       "      <td>2721070.0</td>\n",
       "    </tr>\n",
       "    <tr>\n",
       "      <th>410</th>\n",
       "      <td>GIGABYTE 지포스 GTX 1650 MINI ITX OC D5 4GB 피씨디렉트</td>\n",
       "      <td>GTX 1650 / 12nm / 부스트클럭: 1680MHz / 스트림 프로세서: 8...</td>\n",
       "      <td>455090.0</td>\n",
       "    </tr>\n",
       "    <tr>\n",
       "      <th>411</th>\n",
       "      <td>EVGA 지포스 RTX 3090 FTW3 ULTRA GAMING D6X 24GB</td>\n",
       "      <td>RTX 3090 / 8nm / 부스트클럭: 1800MHz / 스트림 프로세서: 10...</td>\n",
       "      <td>4017650.0</td>\n",
       "    </tr>\n",
       "  </tbody>\n",
       "</table>\n",
       "<p>412 rows × 3 columns</p>\n",
       "</div>"
      ],
      "text/plain": [
       "                                                   제품명  \\\n",
       "0    MSI 라데온 RX 6800 XT 게이밍 X 트리오 D6 16GB 트라이프로져2히트브랜드   \n",
       "1      MSI 지포스 RTX 3070 Ti 슈프림 X D6X 8GB 트라이프로져2S히트브랜드   \n",
       "2         이엠텍 지포스 RTX 3060 STORM X Dual OC D6 12GB이벤트    \n",
       "3        이엠텍 지포스 RTX 3070 Ti BLACK EDITION D6X 8GB이벤트    \n",
       "4     이엠텍 지포스 GTX 1650 STORM X Dual MINI OC D6 4GB이벤트    \n",
       "..                                                 ...   \n",
       "407                EVGA 지포스 RTX 2060 XC GAMING D6 12GB   \n",
       "408  GIGABYTE 지포스 RTX 3080 Ti Gaming OC D6X 12GB 피씨디렉트   \n",
       "409  GIGABYTE AORUS 지포스 RTX 3080 Ti Master D6X 12GB...   \n",
       "410     GIGABYTE 지포스 GTX 1650 MINI ITX OC D5 4GB 피씨디렉트   \n",
       "411       EVGA 지포스 RTX 3090 FTW3 ULTRA GAMING D6X 24GB   \n",
       "\n",
       "                                                  상세설명         가격  \n",
       "0    RX 6800 XT  / 7nm  / 베이스클럭 : 1850MHz  / 부스트클럭 ...  1689950.0  \n",
       "1    RTX 3070 Ti  / 8nm  / 부스트클럭 : 1860MHz  / 스트림 프...  1588180.0  \n",
       "2    RTX 3060 / 8nm / 부스트클럭: 1837MHz / 스트림 프로세서: 35...   909950.0  \n",
       "3    RTX 3070 Ti / 8nm / 베이스클럭: 1575MHz / 부스트클럭: 17...  1463670.0  \n",
       "4    GTX 1650 / 12nm / 베이스클럭: 1410MHz / 부스트클럭: 1725...   417380.0  \n",
       "..                                                 ...        ...  \n",
       "407  RTX 2060 / 12nm / 부스트클럭: 1680MHz / 스트림 프로세서: 2...   834700.0  \n",
       "408  RTX 3080 Ti / 8nm / 부스트클럭: 1710MHz / 스트림 프로세서:...  2438940.0  \n",
       "409  RTX 3080 Ti / 8nm / 부스트클럭: 1770MHz / 스트림 프로세서:...  2721070.0  \n",
       "410  GTX 1650 / 12nm / 부스트클럭: 1680MHz / 스트림 프로세서: 8...   455090.0  \n",
       "411  RTX 3090 / 8nm / 부스트클럭: 1800MHz / 스트림 프로세서: 10...  4017650.0  \n",
       "\n",
       "[412 rows x 3 columns]"
      ]
     },
     "execution_count": 62,
     "metadata": {},
     "output_type": "execute_result"
    }
   ],
   "source": [
    "data_df = pd.DataFrame(prod_data_total,\n",
    "                      columns = ['제품명','상세설명','가격'])\n",
    "data_df"
   ]
  },
  {
   "cell_type": "code",
   "execution_count": 143,
   "id": "240ffb22",
   "metadata": {},
   "outputs": [],
   "source": [
    "data_df.to_excel('./my_excel.xlsx', index = False)"
   ]
  },
  {
   "cell_type": "code",
   "execution_count": 238,
   "id": "e91d9485",
   "metadata": {},
   "outputs": [
    {
     "name": "stdout",
     "output_type": "stream",
     "text": [
      "<class 'pandas.core.frame.DataFrame'>\n",
      "Int64Index: 393 entries, 0 to 411\n",
      "Data columns (total 3 columns):\n",
      " #   Column  Non-Null Count  Dtype \n",
      "---  ------  --------------  ----- \n",
      " 0   제품명     393 non-null    object\n",
      " 1   상세설명    393 non-null    object\n",
      " 2   가격      393 non-null    int32 \n",
      "dtypes: int32(1), object(2)\n",
      "memory usage: 18.8+ KB\n"
     ]
    }
   ],
   "source": [
    "data_df.info()"
   ]
  },
  {
   "cell_type": "code",
   "execution_count": 63,
   "id": "21acc4a2",
   "metadata": {},
   "outputs": [],
   "source": [
    "data_new = pd.DataFrame()\n",
    "\n",
    "# 제조사 : 제품명.split(' ')[0]\n",
    "# 모델명 : 상세정보.split('/')[0].strip()\n",
    "# 부스트클럭 : \n",
    "# 스트림 프로세서: \n",
    "# 8k 해상도 지원:  Y/N 다음번에;\n",
    "# 가격:"
   ]
  },
  {
   "cell_type": "code",
   "execution_count": 69,
   "id": "73d50185",
   "metadata": {},
   "outputs": [],
   "source": [
    "data_df.dropna(inplace = True)"
   ]
  },
  {
   "cell_type": "code",
   "execution_count": 82,
   "id": "ffff0911",
   "metadata": {},
   "outputs": [
    {
     "data": {
      "text/plain": [
       "393"
      ]
     },
     "execution_count": 82,
     "metadata": {},
     "output_type": "execute_result"
    }
   ],
   "source": [
    "len(data_df)"
   ]
  },
  {
   "cell_type": "code",
   "execution_count": 198,
   "id": "25786f7a",
   "metadata": {},
   "outputs": [
    {
     "data": {
      "text/html": [
       "<div>\n",
       "<style scoped>\n",
       "    .dataframe tbody tr th:only-of-type {\n",
       "        vertical-align: middle;\n",
       "    }\n",
       "\n",
       "    .dataframe tbody tr th {\n",
       "        vertical-align: top;\n",
       "    }\n",
       "\n",
       "    .dataframe thead th {\n",
       "        text-align: right;\n",
       "    }\n",
       "</style>\n",
       "<table border=\"1\" class=\"dataframe\">\n",
       "  <thead>\n",
       "    <tr style=\"text-align: right;\">\n",
       "      <th></th>\n",
       "      <th>제품명</th>\n",
       "      <th>상세설명</th>\n",
       "      <th>가격</th>\n",
       "    </tr>\n",
       "  </thead>\n",
       "  <tbody>\n",
       "    <tr>\n",
       "      <th>0</th>\n",
       "      <td>MSI 라데온 RX 6800 XT 게이밍 X 트리오 D6 16GB 트라이프로져2히트브랜드</td>\n",
       "      <td>RX 6800 XT  / 7nm  / 베이스클럭 : 1850MHz  / 부스트클럭 ...</td>\n",
       "      <td>1689950</td>\n",
       "    </tr>\n",
       "    <tr>\n",
       "      <th>1</th>\n",
       "      <td>MSI 지포스 RTX 3070 Ti 슈프림 X D6X 8GB 트라이프로져2S히트브랜드</td>\n",
       "      <td>RTX 3070 Ti  / 8nm  / 부스트클럭 : 1860MHz  / 스트림 프...</td>\n",
       "      <td>1588180</td>\n",
       "    </tr>\n",
       "    <tr>\n",
       "      <th>2</th>\n",
       "      <td>이엠텍 지포스 RTX 3060 STORM X Dual OC D6 12GB이벤트</td>\n",
       "      <td>RTX 3060 / 8nm / 부스트클럭: 1837MHz / 스트림 프로세서: 35...</td>\n",
       "      <td>909950</td>\n",
       "    </tr>\n",
       "    <tr>\n",
       "      <th>3</th>\n",
       "      <td>이엠텍 지포스 RTX 3070 Ti BLACK EDITION D6X 8GB이벤트</td>\n",
       "      <td>RTX 3070 Ti / 8nm / 베이스클럭: 1575MHz / 부스트클럭: 17...</td>\n",
       "      <td>1463670</td>\n",
       "    </tr>\n",
       "    <tr>\n",
       "      <th>4</th>\n",
       "      <td>이엠텍 지포스 GTX 1650 STORM X Dual MINI OC D6 4GB이벤트</td>\n",
       "      <td>GTX 1650 / 12nm / 베이스클럭: 1410MHz / 부스트클럭: 1725...</td>\n",
       "      <td>417380</td>\n",
       "    </tr>\n",
       "    <tr>\n",
       "      <th>5</th>\n",
       "      <td>MSI 지포스 RTX 3060 게이밍 X D6 12GB 트윈프로져8</td>\n",
       "      <td>RTX 3060 / 8nm / 부스트클럭: 1837MHz / 스트림 프로세서: 35...</td>\n",
       "      <td>957110</td>\n",
       "    </tr>\n",
       "    <tr>\n",
       "      <th>7</th>\n",
       "      <td>MSI 지포스 RTX 3070 Ti 슈프림 X D6X 8GB 트라이프로져2S</td>\n",
       "      <td>RTX 3070 Ti / 8nm / 부스트클럭: 1860MHz / 스트림 프로세서:...</td>\n",
       "      <td>1588180</td>\n",
       "    </tr>\n",
       "    <tr>\n",
       "      <th>8</th>\n",
       "      <td>MSI 지포스 RTX 3060 Ti 게이밍 X D6 8GB 트윈프로져8 LHR</td>\n",
       "      <td>RTX 3060 Ti / 8nm / 부스트클럭: 1770MHz / 스트림 프로세서:...</td>\n",
       "      <td>1183960</td>\n",
       "    </tr>\n",
       "    <tr>\n",
       "      <th>9</th>\n",
       "      <td>ZOTAC GAMING 지포스 RTX 3060 TWIN Edge OC D6 12GB...</td>\n",
       "      <td>RTX 3060 / 8nm / 부스트클럭: 1807MHz / 스트림 프로세서: 35...</td>\n",
       "      <td>916390</td>\n",
       "    </tr>\n",
       "    <tr>\n",
       "      <th>10</th>\n",
       "      <td>이엠텍 XENON 지포스 RTX 3080 TURBO JET OC D6X 10GB LHR</td>\n",
       "      <td>RTX 3080 / 8nm / 부스트클럭: 1860MHz / 스트림 프로세서: 87...</td>\n",
       "      <td>1942840</td>\n",
       "    </tr>\n",
       "  </tbody>\n",
       "</table>\n",
       "</div>"
      ],
      "text/plain": [
       "                                                  제품명  \\\n",
       "0   MSI 라데온 RX 6800 XT 게이밍 X 트리오 D6 16GB 트라이프로져2히트브랜드   \n",
       "1     MSI 지포스 RTX 3070 Ti 슈프림 X D6X 8GB 트라이프로져2S히트브랜드   \n",
       "2        이엠텍 지포스 RTX 3060 STORM X Dual OC D6 12GB이벤트    \n",
       "3       이엠텍 지포스 RTX 3070 Ti BLACK EDITION D6X 8GB이벤트    \n",
       "4    이엠텍 지포스 GTX 1650 STORM X Dual MINI OC D6 4GB이벤트    \n",
       "5               MSI 지포스 RTX 3060 게이밍 X D6 12GB 트윈프로져8   \n",
       "7          MSI 지포스 RTX 3070 Ti 슈프림 X D6X 8GB 트라이프로져2S   \n",
       "8         MSI 지포스 RTX 3060 Ti 게이밍 X D6 8GB 트윈프로져8 LHR   \n",
       "9   ZOTAC GAMING 지포스 RTX 3060 TWIN Edge OC D6 12GB...   \n",
       "10   이엠텍 XENON 지포스 RTX 3080 TURBO JET OC D6X 10GB LHR   \n",
       "\n",
       "                                                 상세설명       가격  \n",
       "0   RX 6800 XT  / 7nm  / 베이스클럭 : 1850MHz  / 부스트클럭 ...  1689950  \n",
       "1   RTX 3070 Ti  / 8nm  / 부스트클럭 : 1860MHz  / 스트림 프...  1588180  \n",
       "2   RTX 3060 / 8nm / 부스트클럭: 1837MHz / 스트림 프로세서: 35...   909950  \n",
       "3   RTX 3070 Ti / 8nm / 베이스클럭: 1575MHz / 부스트클럭: 17...  1463670  \n",
       "4   GTX 1650 / 12nm / 베이스클럭: 1410MHz / 부스트클럭: 1725...   417380  \n",
       "5   RTX 3060 / 8nm / 부스트클럭: 1837MHz / 스트림 프로세서: 35...   957110  \n",
       "7   RTX 3070 Ti / 8nm / 부스트클럭: 1860MHz / 스트림 프로세서:...  1588180  \n",
       "8   RTX 3060 Ti / 8nm / 부스트클럭: 1770MHz / 스트림 프로세서:...  1183960  \n",
       "9   RTX 3060 / 8nm / 부스트클럭: 1807MHz / 스트림 프로세서: 35...   916390  \n",
       "10  RTX 3080 / 8nm / 부스트클럭: 1860MHz / 스트림 프로세서: 87...  1942840  "
      ]
     },
     "execution_count": 198,
     "metadata": {},
     "output_type": "execute_result"
    }
   ],
   "source": [
    "data_df.head(10)"
   ]
  },
  {
   "cell_type": "code",
   "execution_count": 78,
   "id": "d0364011",
   "metadata": {},
   "outputs": [
    {
     "data": {
      "text/plain": [
       "'MSI 라데온 RX 6800 XT 게이밍 X 트리오 D6 16GB 트라이프로져2히트브랜드'"
      ]
     },
     "execution_count": 78,
     "metadata": {},
     "output_type": "execute_result"
    }
   ],
   "source": [
    "data_df['제품명'][0]"
   ]
  },
  {
   "cell_type": "code",
   "execution_count": 79,
   "id": "dbbbfd75",
   "metadata": {},
   "outputs": [
    {
     "data": {
      "text/plain": [
       "['MSI',\n",
       " '라데온',\n",
       " 'RX',\n",
       " '6800',\n",
       " 'XT',\n",
       " '게이밍',\n",
       " 'X',\n",
       " '트리오',\n",
       " 'D6',\n",
       " '16GB',\n",
       " '트라이프로져2히트브랜드']"
      ]
     },
     "execution_count": 79,
     "metadata": {},
     "output_type": "execute_result"
    }
   ],
   "source": [
    "data_df['제품명'][0].split(' ')"
   ]
  },
  {
   "cell_type": "code",
   "execution_count": 92,
   "id": "a65bcac0",
   "metadata": {},
   "outputs": [
    {
     "data": {
      "text/plain": [
       "393"
      ]
     },
     "execution_count": 92,
     "metadata": {},
     "output_type": "execute_result"
    }
   ],
   "source": [
    "company_list = []\n",
    "for title in data_df['제품명']:\n",
    "    name = title.split(' ')[0]\n",
    "    company_list.append(name)\n",
    "\n",
    "len(company_list)"
   ]
  },
  {
   "cell_type": "code",
   "execution_count": 89,
   "id": "f57b64bd",
   "metadata": {},
   "outputs": [
    {
     "data": {
      "text/plain": [
       "'RX 6800 XT'"
      ]
     },
     "execution_count": 89,
     "metadata": {},
     "output_type": "execute_result"
    }
   ],
   "source": [
    "data_df['상세설명'][0].split('/',1)[0].strip()"
   ]
  },
  {
   "cell_type": "code",
   "execution_count": 94,
   "id": "4ca85565",
   "metadata": {},
   "outputs": [
    {
     "data": {
      "text/plain": [
       "393"
      ]
     },
     "execution_count": 94,
     "metadata": {},
     "output_type": "execute_result"
    }
   ],
   "source": [
    "model_list = []\n",
    "for model in data_df['상세설명']:\n",
    "    mod_name = model.split('/',1)[0].strip()\n",
    "    model_list.append(mod_name)\n",
    "    \n",
    "len(model_list)"
   ]
  },
  {
   "cell_type": "code",
   "execution_count": 103,
   "id": "7e089f27",
   "metadata": {},
   "outputs": [
    {
     "data": {
      "text/plain": [
       "['RX 6800 XT  ',\n",
       " ' 7nm  ',\n",
       " ' 베이스클럭 : 1850MHz  ',\n",
       " ' 부스트클럭 : 2285MHz  ',\n",
       " ' 스트림 프로세서 : 4608개  ',\n",
       " ' PCIe4.0x16  ',\n",
       " ' GDDR6(DDR6)  ',\n",
       " ' 출력단자 : HDMI2.1 , DP1.4  ',\n",
       " ' 부가기능 : 제로팬(0-dB기술) , 8K 해상도 지원 , 4K 해상도 지원 , HDR 지원 , HDCP 지원  ',\n",
       " ' 사용전력 : 최대 300W  ',\n",
       " ' 정격파워 750W 이상  ',\n",
       " ' 전원 포트 : 8핀 x2개  ',\n",
       " ' 3개 팬  ',\n",
       " ' 가로(길이) : 324mm  ',\n",
       " ' 백플레이트  ',\n",
       " ' LED 라이트  ',\n",
       " ' MYSTIC LIGHT ',\n",
       " ' A',\n",
       " 'S 3년 ',\n",
       " ' 인피니티 캐시: 128MB ',\n",
       " ' RDNA2 ',\n",
       " ' 그래픽 카드 지지대 포함']"
      ]
     },
     "execution_count": 103,
     "metadata": {},
     "output_type": "execute_result"
    }
   ],
   "source": [
    "data_df['상세설명'][0].split('/')"
   ]
  },
  {
   "cell_type": "code",
   "execution_count": 117,
   "id": "81fca5df",
   "metadata": {},
   "outputs": [
    {
     "data": {
      "text/plain": [
       "True"
      ]
     },
     "execution_count": 117,
     "metadata": {},
     "output_type": "execute_result"
    }
   ],
   "source": [
    "('정격파워' in data_df['상세설명'][0].split('/')[10])"
   ]
  },
  {
   "cell_type": "code",
   "execution_count": 120,
   "id": "bb1bd681",
   "metadata": {},
   "outputs": [
    {
     "data": {
      "text/plain": [
       "-1"
      ]
     },
     "execution_count": 120,
     "metadata": {},
     "output_type": "execute_result"
    }
   ],
   "source": [
    "condition = ('정격파워' in data_df['상세설명'][0].split('/')[10])\n",
    "condition"
   ]
  },
  {
   "cell_type": "code",
   "execution_count": 106,
   "id": "049965ff",
   "metadata": {},
   "outputs": [],
   "source": [
    "spec_lists = data_df['상세설명'][0].split('/')"
   ]
  },
  {
   "cell_type": "code",
   "execution_count": 130,
   "id": "75782f71",
   "metadata": {},
   "outputs": [
    {
     "name": "stdout",
     "output_type": "stream",
     "text": [
      " 부스트클럭 : 2285MHz  \n",
      " 스트림 프로세서 : 4608개  \n",
      " 부가기능 : 제로팬(0-dB기술) , 8K 해상도 지원 , 4K 해상도 지원 , HDR 지원 , HDCP 지원  \n"
     ]
    }
   ],
   "source": [
    "for spec in spec_lists:\n",
    "    if '부스트클럭' in spec:\n",
    "        boost = spec\n",
    "    elif '스트림 프로세서' in spec:\n",
    "        stream = spec\n",
    "    elif '8K 해상도 지원' in spec:\n",
    "        eightK = spec\n",
    "\n",
    "print(boost)\n",
    "print(stream)\n",
    "print(eightK)"
   ]
  },
  {
   "cell_type": "code",
   "execution_count": 156,
   "id": "fc3b213c",
   "metadata": {},
   "outputs": [
    {
     "name": "stdout",
     "output_type": "stream",
     "text": [
      " 부스트클럭: 1770MHz \n",
      " 스트림 프로세서: 6144개 \n",
      " 부가기능: 제로팬(0-dB기술), 8K 해상도 지원, 4K 해상도 지원, HDR 지원, HDCP 2.3 \n"
     ]
    }
   ],
   "source": [
    "spec_lists = data_df['상세설명'][3].split('/')\n",
    "for spec in spec_lists:\n",
    "    if '부스트클럭' in spec:\n",
    "        boost = spec\n",
    "    elif '스트림 프로세서' in spec:\n",
    "        stream = spec\n",
    "    elif '8K' in spec:\n",
    "        eightK = spec\n",
    "\n",
    "print(boost)\n",
    "print(stream)\n",
    "print(eightK)"
   ]
  },
  {
   "cell_type": "code",
   "execution_count": 188,
   "id": "200d6474",
   "metadata": {},
   "outputs": [],
   "source": [
    "boost_list = []\n",
    "stream_list = []\n",
    "\n",
    "for spec_data in data_df['상세설명']:\n",
    "    spec_lists = spec_data.split('/')\n",
    "    for spec in spec_lists:\n",
    "        if '부스트클럭' in spec:\n",
    "            boost = spec\n",
    "        elif '스트림 프로세서' in spec:\n",
    "            stream = spec\n",
    "        \n",
    "    boost_value = int(boost.split(':')[1].strip().split('MHz')[0])\n",
    "    boost_list.append(boost_value)\n",
    "    \n",
    "    stream_value = int(stream.split(':')[1].strip().split('개')[0])\n",
    "    stream_list.append(stream_value)"
   ]
  },
  {
   "cell_type": "code",
   "execution_count": 189,
   "id": "d2001b19",
   "metadata": {},
   "outputs": [
    {
     "name": "stdout",
     "output_type": "stream",
     "text": [
      "[2285, 1860, 1837, 1770, 1725]\n",
      "[4608, 6144, 3584, 6144, 896]\n"
     ]
    }
   ],
   "source": [
    "print(boost_list[:5])\n",
    "print(stream_list[:5])"
   ]
  },
  {
   "cell_type": "code",
   "execution_count": 217,
   "id": "5f118a59",
   "metadata": {},
   "outputs": [
    {
     "data": {
      "text/plain": [
       "pandas.core.series.Series"
      ]
     },
     "execution_count": 217,
     "metadata": {},
     "output_type": "execute_result"
    }
   ],
   "source": [
    "type(data_df['가격'])"
   ]
  },
  {
   "cell_type": "code",
   "execution_count": 240,
   "id": "e6be42ce",
   "metadata": {},
   "outputs": [],
   "source": [
    "data_new = pd.DataFrame()\n",
    "\n",
    "data_new['제조사'] = company_list\n",
    "data_new['모델명'] = model_list\n",
    "data_new['부스트클럭(MHz)'] = boost_list\n",
    "data_new['스트림 프로세서 개수'] = stream_list\n",
    "data_new['가격'] = data_df['가격']"
   ]
  },
  {
   "cell_type": "code",
   "execution_count": 241,
   "id": "732188fd",
   "metadata": {},
   "outputs": [
    {
     "name": "stdout",
     "output_type": "stream",
     "text": [
      "<class 'pandas.core.frame.DataFrame'>\n",
      "RangeIndex: 393 entries, 0 to 392\n",
      "Data columns (total 5 columns):\n",
      " #   Column       Non-Null Count  Dtype  \n",
      "---  ------       --------------  -----  \n",
      " 0   제조사          393 non-null    object \n",
      " 1   모델명          393 non-null    object \n",
      " 2   부스트클럭(MHz)   393 non-null    int64  \n",
      " 3   스트림 프로세서 개수  393 non-null    int64  \n",
      " 4   가격           374 non-null    float64\n",
      "dtypes: float64(1), int64(2), object(2)\n",
      "memory usage: 15.5+ KB\n"
     ]
    }
   ],
   "source": [
    "data_new.info()"
   ]
  },
  {
   "cell_type": "code",
   "execution_count": 229,
   "id": "3805c9d8",
   "metadata": {},
   "outputs": [],
   "source": [
    "data_new.to_excel('./my_excel_2.xlsx', index = False)"
   ]
  },
  {
   "cell_type": "code",
   "execution_count": 203,
   "id": "a1b54ef6",
   "metadata": {},
   "outputs": [
    {
     "data": {
      "text/plain": [
       "393"
      ]
     },
     "execution_count": 203,
     "metadata": {},
     "output_type": "execute_result"
    }
   ],
   "source": [
    "len(data_df['가격'])"
   ]
  },
  {
   "cell_type": "code",
   "execution_count": 204,
   "id": "4540e99c",
   "metadata": {},
   "outputs": [
    {
     "data": {
      "text/plain": [
       "393"
      ]
     },
     "execution_count": 204,
     "metadata": {},
     "output_type": "execute_result"
    }
   ],
   "source": [
    "len(data_new['가격'])"
   ]
  },
  {
   "cell_type": "code",
   "execution_count": 230,
   "id": "86336de3",
   "metadata": {},
   "outputs": [
    {
     "data": {
      "text/plain": [
       "0     1689950\n",
       "1     1588180\n",
       "2      909950\n",
       "3     1463670\n",
       "4      417380\n",
       "5      957110\n",
       "7     1588180\n",
       "8     1183960\n",
       "9      916390\n",
       "10    1942840\n",
       "Name: 가격, dtype: int32"
      ]
     },
     "execution_count": 230,
     "metadata": {},
     "output_type": "execute_result"
    }
   ],
   "source": [
    "data_df['가격'].head(10)"
   ]
  },
  {
   "cell_type": "code",
   "execution_count": 231,
   "id": "91876d93",
   "metadata": {},
   "outputs": [
    {
     "data": {
      "text/plain": [
       "0    1689950.0\n",
       "1    1588180.0\n",
       "2     909950.0\n",
       "3    1463670.0\n",
       "4     417380.0\n",
       "5     957110.0\n",
       "6          NaN\n",
       "7    1588180.0\n",
       "8    1183960.0\n",
       "9     916390.0\n",
       "Name: 가격, dtype: float64"
      ]
     },
     "execution_count": 231,
     "metadata": {},
     "output_type": "execute_result"
    }
   ],
   "source": [
    "data_new['가격'].head(10)"
   ]
  },
  {
   "cell_type": "markdown",
   "id": "a800950e",
   "metadata": {},
   "source": [
    "---"
   ]
  },
  {
   "cell_type": "code",
   "execution_count": 2,
   "id": "0b1ce7fd",
   "metadata": {},
   "outputs": [
    {
     "name": "stdout",
     "output_type": "stream",
     "text": [
      "<class 'pandas.core.frame.DataFrame'>\n",
      "RangeIndex: 393 entries, 0 to 392\n",
      "Data columns (total 3 columns):\n",
      " #   Column  Non-Null Count  Dtype \n",
      "---  ------  --------------  ----- \n",
      " 0   제품명     393 non-null    object\n",
      " 1   상세설명    393 non-null    object\n",
      " 2   가격      393 non-null    int64 \n",
      "dtypes: int64(1), object(2)\n",
      "memory usage: 9.3+ KB\n"
     ]
    }
   ],
   "source": [
    "data_df = pd.read_excel('./my_excel.xlsx')\n",
    "data_df.info()"
   ]
  },
  {
   "cell_type": "code",
   "execution_count": 3,
   "id": "594d3bc3",
   "metadata": {},
   "outputs": [
    {
     "name": "stdout",
     "output_type": "stream",
     "text": [
      "<class 'pandas.core.frame.DataFrame'>\n",
      "RangeIndex: 393 entries, 0 to 392\n",
      "Data columns (total 5 columns):\n",
      " #   Column       Non-Null Count  Dtype  \n",
      "---  ------       --------------  -----  \n",
      " 0   제조사          393 non-null    object \n",
      " 1   모델명          393 non-null    object \n",
      " 2   부스트클럭(MHz)   393 non-null    int64  \n",
      " 3   스트림 프로세서 개수  393 non-null    int64  \n",
      " 4   가격           374 non-null    float64\n",
      "dtypes: float64(1), int64(2), object(2)\n",
      "memory usage: 15.5+ KB\n"
     ]
    }
   ],
   "source": [
    "data_new = pd.read_excel('./my_excel_2.xlsx')\n",
    "data_new.info()"
   ]
  },
  {
   "cell_type": "code",
   "execution_count": 4,
   "id": "ca54e744",
   "metadata": {},
   "outputs": [
    {
     "name": "stdout",
     "output_type": "stream",
     "text": [
      "<class 'pandas.core.frame.DataFrame'>\n",
      "RangeIndex: 393 entries, 0 to 392\n",
      "Data columns (total 5 columns):\n",
      " #   Column       Non-Null Count  Dtype \n",
      "---  ------       --------------  ----- \n",
      " 0   제조사          393 non-null    object\n",
      " 1   모델명          393 non-null    object\n",
      " 2   부스트클럭(MHz)   393 non-null    int64 \n",
      " 3   스트림 프로세서 개수  393 non-null    int64 \n",
      " 4   가격           393 non-null    int64 \n",
      "dtypes: int64(3), object(2)\n",
      "memory usage: 15.5+ KB\n"
     ]
    }
   ],
   "source": [
    "data_new['가격'] = data_df['가격']\n",
    "data_new.info()"
   ]
  },
  {
   "cell_type": "code",
   "execution_count": 5,
   "id": "0d0d25cb",
   "metadata": {},
   "outputs": [],
   "source": [
    "data_new.to_excel('./my_excel_2.xlsx', index = False)"
   ]
  },
  {
   "cell_type": "code",
   "execution_count": 6,
   "id": "4d936445",
   "metadata": {},
   "outputs": [
    {
     "data": {
      "text/html": [
       "<div>\n",
       "<style scoped>\n",
       "    .dataframe tbody tr th:only-of-type {\n",
       "        vertical-align: middle;\n",
       "    }\n",
       "\n",
       "    .dataframe tbody tr th {\n",
       "        vertical-align: top;\n",
       "    }\n",
       "\n",
       "    .dataframe thead th {\n",
       "        text-align: right;\n",
       "    }\n",
       "</style>\n",
       "<table border=\"1\" class=\"dataframe\">\n",
       "  <thead>\n",
       "    <tr style=\"text-align: right;\">\n",
       "      <th></th>\n",
       "      <th>제조사</th>\n",
       "      <th>모델명</th>\n",
       "      <th>부스트클럭(MHz)</th>\n",
       "      <th>스트림 프로세서 개수</th>\n",
       "      <th>가격</th>\n",
       "    </tr>\n",
       "  </thead>\n",
       "  <tbody>\n",
       "    <tr>\n",
       "      <th>0</th>\n",
       "      <td>MSI</td>\n",
       "      <td>RX 6800 XT</td>\n",
       "      <td>2285</td>\n",
       "      <td>4608</td>\n",
       "      <td>1689950</td>\n",
       "    </tr>\n",
       "    <tr>\n",
       "      <th>1</th>\n",
       "      <td>MSI</td>\n",
       "      <td>RTX 3070 Ti</td>\n",
       "      <td>1860</td>\n",
       "      <td>6144</td>\n",
       "      <td>1588180</td>\n",
       "    </tr>\n",
       "    <tr>\n",
       "      <th>2</th>\n",
       "      <td>이엠텍</td>\n",
       "      <td>RTX 3060</td>\n",
       "      <td>1837</td>\n",
       "      <td>3584</td>\n",
       "      <td>909950</td>\n",
       "    </tr>\n",
       "    <tr>\n",
       "      <th>3</th>\n",
       "      <td>이엠텍</td>\n",
       "      <td>RTX 3070 Ti</td>\n",
       "      <td>1770</td>\n",
       "      <td>6144</td>\n",
       "      <td>1463670</td>\n",
       "    </tr>\n",
       "    <tr>\n",
       "      <th>4</th>\n",
       "      <td>이엠텍</td>\n",
       "      <td>GTX 1650</td>\n",
       "      <td>1725</td>\n",
       "      <td>896</td>\n",
       "      <td>417380</td>\n",
       "    </tr>\n",
       "  </tbody>\n",
       "</table>\n",
       "</div>"
      ],
      "text/plain": [
       "   제조사          모델명  부스트클럭(MHz)  스트림 프로세서 개수       가격\n",
       "0  MSI   RX 6800 XT        2285         4608  1689950\n",
       "1  MSI  RTX 3070 Ti        1860         6144  1588180\n",
       "2  이엠텍     RTX 3060        1837         3584   909950\n",
       "3  이엠텍  RTX 3070 Ti        1770         6144  1463670\n",
       "4  이엠텍     GTX 1650        1725          896   417380"
      ]
     },
     "execution_count": 6,
     "metadata": {},
     "output_type": "execute_result"
    }
   ],
   "source": [
    "data_new.head()"
   ]
  },
  {
   "cell_type": "code",
   "execution_count": 16,
   "id": "ee04ff9a",
   "metadata": {},
   "outputs": [],
   "source": [
    "dataMSI = data_new[data_new['제조사'].isin(['MSI'])]"
   ]
  },
  {
   "cell_type": "code",
   "execution_count": 4,
   "id": "6aa3f2b5",
   "metadata": {},
   "outputs": [],
   "source": [
    "import pandas as pd"
   ]
  },
  {
   "cell_type": "code",
   "execution_count": 5,
   "id": "c3a260a6",
   "metadata": {},
   "outputs": [],
   "source": [
    "from matplotlib import font_manager, rc\n",
    "import matplotlib.pyplot as plt\n",
    "import seaborn as sns\n",
    "\n",
    "rc('font',family = 'Malgun Gothic')"
   ]
  },
  {
   "cell_type": "code",
   "execution_count": 6,
   "id": "b2b640fa",
   "metadata": {},
   "outputs": [],
   "source": [
    "from matplotlib import font_manager, rc\n",
    "import matplotlib.pyplot as plt\n",
    "import seaborn as sns"
   ]
  },
  {
   "cell_type": "code",
   "execution_count": 7,
   "id": "79ad7005",
   "metadata": {},
   "outputs": [],
   "source": [
    "data_new = pd.read_excel('./my_excel_2.xlsx')"
   ]
  },
  {
   "cell_type": "code",
   "execution_count": 25,
   "id": "b0a7fb13",
   "metadata": {},
   "outputs": [
    {
     "data": {
      "text/html": [
       "<div>\n",
       "<style scoped>\n",
       "    .dataframe tbody tr th:only-of-type {\n",
       "        vertical-align: middle;\n",
       "    }\n",
       "\n",
       "    .dataframe tbody tr th {\n",
       "        vertical-align: top;\n",
       "    }\n",
       "\n",
       "    .dataframe thead th {\n",
       "        text-align: right;\n",
       "    }\n",
       "</style>\n",
       "<table border=\"1\" class=\"dataframe\">\n",
       "  <thead>\n",
       "    <tr style=\"text-align: right;\">\n",
       "      <th></th>\n",
       "      <th>제조사</th>\n",
       "      <th>모델명</th>\n",
       "      <th>부스트클럭(MHz)</th>\n",
       "      <th>스트림 프로세서 개수</th>\n",
       "      <th>가격</th>\n",
       "    </tr>\n",
       "  </thead>\n",
       "  <tbody>\n",
       "    <tr>\n",
       "      <th>0</th>\n",
       "      <td>MSI</td>\n",
       "      <td>RX 6800 XT</td>\n",
       "      <td>2285</td>\n",
       "      <td>4608</td>\n",
       "      <td>1689950</td>\n",
       "    </tr>\n",
       "    <tr>\n",
       "      <th>1</th>\n",
       "      <td>MSI</td>\n",
       "      <td>RTX 3070 Ti</td>\n",
       "      <td>1860</td>\n",
       "      <td>6144</td>\n",
       "      <td>1588180</td>\n",
       "    </tr>\n",
       "    <tr>\n",
       "      <th>2</th>\n",
       "      <td>이엠텍</td>\n",
       "      <td>RTX 3060</td>\n",
       "      <td>1837</td>\n",
       "      <td>3584</td>\n",
       "      <td>909950</td>\n",
       "    </tr>\n",
       "    <tr>\n",
       "      <th>3</th>\n",
       "      <td>이엠텍</td>\n",
       "      <td>RTX 3070 Ti</td>\n",
       "      <td>1770</td>\n",
       "      <td>6144</td>\n",
       "      <td>1463670</td>\n",
       "    </tr>\n",
       "    <tr>\n",
       "      <th>4</th>\n",
       "      <td>이엠텍</td>\n",
       "      <td>GTX 1650</td>\n",
       "      <td>1725</td>\n",
       "      <td>896</td>\n",
       "      <td>417380</td>\n",
       "    </tr>\n",
       "    <tr>\n",
       "      <th>5</th>\n",
       "      <td>MSI</td>\n",
       "      <td>RTX 3060</td>\n",
       "      <td>1837</td>\n",
       "      <td>3584</td>\n",
       "      <td>957110</td>\n",
       "    </tr>\n",
       "    <tr>\n",
       "      <th>6</th>\n",
       "      <td>MSI</td>\n",
       "      <td>RTX 3070 Ti</td>\n",
       "      <td>1860</td>\n",
       "      <td>6144</td>\n",
       "      <td>1588180</td>\n",
       "    </tr>\n",
       "    <tr>\n",
       "      <th>7</th>\n",
       "      <td>MSI</td>\n",
       "      <td>RTX 3060 Ti</td>\n",
       "      <td>1770</td>\n",
       "      <td>4864</td>\n",
       "      <td>1183960</td>\n",
       "    </tr>\n",
       "    <tr>\n",
       "      <th>8</th>\n",
       "      <td>ZOTAC</td>\n",
       "      <td>RTX 3060</td>\n",
       "      <td>1807</td>\n",
       "      <td>3584</td>\n",
       "      <td>916390</td>\n",
       "    </tr>\n",
       "    <tr>\n",
       "      <th>9</th>\n",
       "      <td>이엠텍</td>\n",
       "      <td>RTX 3080</td>\n",
       "      <td>1860</td>\n",
       "      <td>8704</td>\n",
       "      <td>1942840</td>\n",
       "    </tr>\n",
       "    <tr>\n",
       "      <th>10</th>\n",
       "      <td>MSI</td>\n",
       "      <td>RX 6600</td>\n",
       "      <td>2491</td>\n",
       "      <td>1792</td>\n",
       "      <td>663470</td>\n",
       "    </tr>\n",
       "    <tr>\n",
       "      <th>11</th>\n",
       "      <td>MSI</td>\n",
       "      <td>RX 6600</td>\n",
       "      <td>2491</td>\n",
       "      <td>1792</td>\n",
       "      <td>666950</td>\n",
       "    </tr>\n",
       "    <tr>\n",
       "      <th>12</th>\n",
       "      <td>XFX</td>\n",
       "      <td>RX 6600 XT</td>\n",
       "      <td>2589</td>\n",
       "      <td>2048</td>\n",
       "      <td>787530</td>\n",
       "    </tr>\n",
       "    <tr>\n",
       "      <th>13</th>\n",
       "      <td>MSI</td>\n",
       "      <td>RTX 3080 Ti</td>\n",
       "      <td>1845</td>\n",
       "      <td>10240</td>\n",
       "      <td>2491000</td>\n",
       "    </tr>\n",
       "    <tr>\n",
       "      <th>14</th>\n",
       "      <td>이엠텍</td>\n",
       "      <td>RTX 3060 Ti</td>\n",
       "      <td>1695</td>\n",
       "      <td>4864</td>\n",
       "      <td>1135000</td>\n",
       "    </tr>\n",
       "    <tr>\n",
       "      <th>15</th>\n",
       "      <td>갤럭시</td>\n",
       "      <td>RTX 3060</td>\n",
       "      <td>1777</td>\n",
       "      <td>3584</td>\n",
       "      <td>949660</td>\n",
       "    </tr>\n",
       "    <tr>\n",
       "      <th>16</th>\n",
       "      <td>XFX</td>\n",
       "      <td>RX 6600</td>\n",
       "      <td>2491</td>\n",
       "      <td>1792</td>\n",
       "      <td>704230</td>\n",
       "    </tr>\n",
       "    <tr>\n",
       "      <th>17</th>\n",
       "      <td>MSI</td>\n",
       "      <td>RTX 3070</td>\n",
       "      <td>1845</td>\n",
       "      <td>5888</td>\n",
       "      <td>1416000</td>\n",
       "    </tr>\n",
       "    <tr>\n",
       "      <th>18</th>\n",
       "      <td>XFX</td>\n",
       "      <td>RX 6600 XT</td>\n",
       "      <td>2607</td>\n",
       "      <td>2048</td>\n",
       "      <td>842200</td>\n",
       "    </tr>\n",
       "    <tr>\n",
       "      <th>19</th>\n",
       "      <td>이엠텍</td>\n",
       "      <td>RTX 3070</td>\n",
       "      <td>1770</td>\n",
       "      <td>5888</td>\n",
       "      <td>1399200</td>\n",
       "    </tr>\n",
       "  </tbody>\n",
       "</table>\n",
       "</div>"
      ],
      "text/plain": [
       "      제조사          모델명  부스트클럭(MHz)  스트림 프로세서 개수       가격\n",
       "0     MSI   RX 6800 XT        2285         4608  1689950\n",
       "1     MSI  RTX 3070 Ti        1860         6144  1588180\n",
       "2     이엠텍     RTX 3060        1837         3584   909950\n",
       "3     이엠텍  RTX 3070 Ti        1770         6144  1463670\n",
       "4     이엠텍     GTX 1650        1725          896   417380\n",
       "5     MSI     RTX 3060        1837         3584   957110\n",
       "6     MSI  RTX 3070 Ti        1860         6144  1588180\n",
       "7     MSI  RTX 3060 Ti        1770         4864  1183960\n",
       "8   ZOTAC     RTX 3060        1807         3584   916390\n",
       "9     이엠텍     RTX 3080        1860         8704  1942840\n",
       "10    MSI      RX 6600        2491         1792   663470\n",
       "11    MSI      RX 6600        2491         1792   666950\n",
       "12    XFX   RX 6600 XT        2589         2048   787530\n",
       "13    MSI  RTX 3080 Ti        1845        10240  2491000\n",
       "14    이엠텍  RTX 3060 Ti        1695         4864  1135000\n",
       "15    갤럭시     RTX 3060        1777         3584   949660\n",
       "16    XFX      RX 6600        2491         1792   704230\n",
       "17    MSI     RTX 3070        1845         5888  1416000\n",
       "18    XFX   RX 6600 XT        2607         2048   842200\n",
       "19    이엠텍     RTX 3070        1770         5888  1399200"
      ]
     },
     "execution_count": 25,
     "metadata": {},
     "output_type": "execute_result"
    }
   ],
   "source": [
    "chart_data_selected = data_new[:20]\n",
    "chart_data_selected"
   ]
  },
  {
   "cell_type": "code",
   "execution_count": 26,
   "id": "6057e342",
   "metadata": {},
   "outputs": [
    {
     "data": {
      "image/png": "[encoded data removed]",
      "text/plain": [
       "<Figure size 2880x1080 with 1 Axes>"
      ]
     },
     "metadata": {
      "needs_background": "light"
     },
     "output_type": "display_data"
    }
   ],
   "source": [
    "boost_max_value = chart_data_selected['가격'].max()\n",
    "boost_mean_value = chart_data_selected['가격'].mean()\n",
    "stream_max_value = chart_data_selected['스트림 프로세서 개수'].max()\n",
    "stream_mean_value = chart_data_selected['스트림 프로세서 개수'].mean()\n",
    "sizeMin = chart_data_selected['부스트클럭(MHz)'].min()/chart_data_selected['부스트클럭(MHz)'].max()*1000\n",
    "sizeMax = 1000\n",
    "plt.figure(figsize=(40, 15))\n",
    "plt.title(\"그래픽카드 인기품목 TOP 20\")\n",
    "sns.scatterplot(x = '가격', \n",
    "                  y = '스트림 프로세서 개수', \n",
    "                  size = '가격', \n",
    "                  hue = chart_data_selected['제조사'], \n",
    "                  data = chart_data_selected,\n",
    "                  sizes = (sizeMin,sizeMax),\n",
    "                  legend = False)\n",
    "plt.plot([2500, boost_max_value], \n",
    "          [stream_mean_value, stream_mean_value], \n",
    "          'r--', \n",
    "          lw = 1 )\n",
    "plt.plot([boost_mean_value, boost_mean_value], \n",
    "          [1000, stream_max_value], \n",
    "          'r--', \n",
    "          lw = 1 )\n",
    "for index, row in chart_data_selected.iterrows():\n",
    "    x = row['가격']\n",
    "    y = row['스트림 프로세서 개수']\n",
    "    s = (row['제조사']+' '+row['모델명'])\n",
    "    plt.text(x, y, s, size=20)\n",
    "plt.show()"
   ]
  },
  {
   "cell_type": "code",
   "execution_count": null,
   "id": "05a26133",
   "metadata": {},
   "outputs": [],
   "source": []
  }
 ],
 "metadata": {
  "kernelspec": {
   "display_name": "Python 3 (ipykernel)",
   "language": "python",
   "name": "python3"
  },
  "language_info": {
   "codemirror_mode": {
    "name": "ipython",
    "version": 3
   },
   "file_extension": ".py",
   "mimetype": "text/x-python",
   "name": "python",
   "nbconvert_exporter": "python",
   "pygments_lexer": "ipython3",
   "version": "3.9.7"
  }
 },
 "nbformat": 4,
 "nbformat_minor": 5
}
